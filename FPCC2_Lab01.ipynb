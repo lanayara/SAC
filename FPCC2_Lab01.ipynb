{
  "nbformat": 4,
  "nbformat_minor": 0,
  "metadata": {
    "colab": {
      "provenance": [],
      "authorship_tag": "ABX9TyNP5LveeJ/y0agBQWj3+Ed4",
      "include_colab_link": true
    },
    "kernelspec": {
      "name": "python3",
      "display_name": "Python 3"
    },
    "language_info": {
      "name": "python"
    }
  },
  "cells": [
    {
      "cell_type": "markdown",
      "metadata": {
        "id": "view-in-github",
        "colab_type": "text"
      },
      "source": [
        "<a href=\"https://colab.research.google.com/github/lanayara/SAC/blob/master/FPCC2_Lab01.ipynb\" target=\"_parent\"><img src=\"https://colab.research.google.com/assets/colab-badge.svg\" alt=\"Open In Colab\"/></a>"
      ]
    },
    {
      "cell_type": "markdown",
      "source": [
        "### **FPCC2 - LABORATÓRIO 1**"
      ],
      "metadata": {
        "id": "Ez0UIptg0ozC"
      }
    },
    {
      "cell_type": "markdown",
      "source": [
        "** **Professor**: Fabio Jorge Almeida Morais*\n",
        "\n",
        "** **Aluna**: Lana Yara do Nascimento Bem*"
      ],
      "metadata": {
        "id": "KoxhSK9nLoHB"
      }
    },
    {
      "cell_type": "code",
      "execution_count": 432,
      "metadata": {
        "colab": {
          "base_uri": "https://localhost:8080/",
          "height": 0
        },
        "id": "jJvadwiemKmz",
        "outputId": "af7df82f-ee9f-452e-a6c1-fe3ef6ed45e6"
      },
      "outputs": [
        {
          "output_type": "stream",
          "name": "stdout",
          "text": [
            "Drive already mounted at /content/drive; to attempt to forcibly remount, call drive.mount(\"/content/drive\", force_remount=True).\n"
          ]
        }
      ],
      "source": [
        "from google.colab import drive\n",
        "drive.mount('/content/drive')"
      ]
    },
    {
      "cell_type": "code",
      "source": [
        "import pandas as pd"
      ],
      "metadata": {
        "id": "MuneE5iRoaUH"
      },
      "execution_count": 433,
      "outputs": []
    },
    {
      "cell_type": "code",
      "source": [
        "cursos_prouni = pd.read_csv('/content/drive/MyDrive/FPCC2_Lab/cursos-prouni.csv', encoding='UTF-8')\n",
        "estados = pd.read_csv('/content/drive/MyDrive/FPCC2_Lab/estados.csv', encoding='UTF-8')"
      ],
      "metadata": {
        "id": "9sOoaR9Hm9nh"
      },
      "execution_count": 434,
      "outputs": []
    },
    {
      "cell_type": "markdown",
      "source": [
        "*Os resultados são apresentado em tabelas e gráficos de barra horizontal ou vertical (são mais fáceis de ler, especialmente quando há muitas categorias ou quando os nomes das categorias são longos). Também são mostrados em gráfico de barras empilhadas horizontal. Este gráfico é particularmente útil quando se deseja comparar a distribuição de categorias dentro de um conjunto maior de dados, mantendo a capacidade de visualizar o total combinado. A bilioteca Plotly, usada para visualizações, permite criar gráficos interativos que podem ser explorados com recursos como zoom, pan e tooltips personalizáveis que exibem informações adicionais ao passar o mouse sobre os elementos do gráfico.*"
      ],
      "metadata": {
        "id": "EZKs_TSpoXJP"
      }
    },
    {
      "cell_type": "markdown",
      "source": [
        "Para unir os dois conjuntos de dados (cursos-prouni.csv e estados.csv) pelas colunas 'uf_busca [cursos-prouni]' e 'subdivision [estados]', é necesário remover as linhas onde 'subdivision' contém valores que não são, atualmente, códigos de estados brasileiros. Após, une-se os dois conjuntos de dados."
      ],
      "metadata": {
        "id": "WDUxeKIUMUtX"
      }
    },
    {
      "cell_type": "code",
      "source": [
        "#valores presentes nas colunas 'uf_bsuca' e 'subdivision'\n",
        "print(\"Valores únicos na coluna 'uf_busca':\")\n",
        "print(cursos_prouni['uf_busca'].unique())\n",
        "\n",
        "print(\"\\nValores únicos na coluna 'subdivision':\")\n",
        "print(estados['subdivision'].unique())"
      ],
      "metadata": {
        "colab": {
          "base_uri": "https://localhost:8080/",
          "height": 0
        },
        "id": "CSDeR3b1j4lM",
        "outputId": "c8c11506-8af8-497e-cd5c-197ee5499146"
      },
      "execution_count": 435,
      "outputs": [
        {
          "output_type": "stream",
          "name": "stdout",
          "text": [
            "Valores únicos na coluna 'uf_busca':\n",
            "['MS' 'CE' 'SP' 'AC' 'MG' 'MT' 'BA' 'RJ' 'PA' 'PR' 'PI' 'PB' 'RS' 'MA'\n",
            " 'TO' 'AL' 'PE' 'SC' 'RO' 'DF' 'RN' 'SE' 'GO' 'ES' 'AP' 'AM' 'RR']\n",
            "\n",
            "Valores únicos na coluna 'subdivision':\n",
            "['AC' 'AL' 'AM' 'AP' 'BA' 'CE' 'DF' 'ES' 'GO' 'MA' 'MG' 'MS' 'MT' 'PA'\n",
            " 'PB' 'PE' 'PI' 'PR' 'RJ' 'RN' 'RO' 'RR' 'RS' 'SC' 'SE' 'SP' 'TO' 'FN'\n",
            " 'GB' 'GU' 'IG' 'PP' 'RB']\n"
          ]
        }
      ]
    },
    {
      "cell_type": "code",
      "source": [
        "#incluindo apenas as linhas onde os valores da coluna subdivision estão presentes nos valores únicos da coluna uf_busca\n",
        "estados = estados[estados['subdivision'].isin(cursos_prouni['uf_busca'].unique())]"
      ],
      "metadata": {
        "id": "D_hPrlZlO39B"
      },
      "execution_count": 436,
      "outputs": []
    },
    {
      "cell_type": "code",
      "source": [
        "print(\"Valores únicos na coluna 'uf_busca':\")\n",
        "print(cursos_prouni['uf_busca'].unique())\n",
        "\n",
        "print(\"\\nValores únicos na coluna 'subdivision':\")\n",
        "print(estados['subdivision'].unique())"
      ],
      "metadata": {
        "colab": {
          "base_uri": "https://localhost:8080/",
          "height": 0
        },
        "id": "1ulrCCtWHM8i",
        "outputId": "9bd373d0-89ab-4d37-b3a2-06c6be070aaa"
      },
      "execution_count": 437,
      "outputs": [
        {
          "output_type": "stream",
          "name": "stdout",
          "text": [
            "Valores únicos na coluna 'uf_busca':\n",
            "['MS' 'CE' 'SP' 'AC' 'MG' 'MT' 'BA' 'RJ' 'PA' 'PR' 'PI' 'PB' 'RS' 'MA'\n",
            " 'TO' 'AL' 'PE' 'SC' 'RO' 'DF' 'RN' 'SE' 'GO' 'ES' 'AP' 'AM' 'RR']\n",
            "\n",
            "Valores únicos na coluna 'subdivision':\n",
            "['AC' 'AL' 'AM' 'AP' 'BA' 'CE' 'DF' 'ES' 'GO' 'MA' 'MG' 'MS' 'MT' 'PA'\n",
            " 'PB' 'PE' 'PI' 'PR' 'RJ' 'RN' 'RO' 'RR' 'RS' 'SC' 'SE' 'SP' 'TO']\n"
          ]
        }
      ]
    },
    {
      "cell_type": "code",
      "source": [
        "merged = pd.merge(cursos_prouni, estados, left_on='uf_busca', right_on='subdivision')"
      ],
      "metadata": {
        "id": "1HH8xPRyNtcF"
      },
      "execution_count": 438,
      "outputs": []
    },
    {
      "cell_type": "markdown",
      "source": [
        "*O conjunto de dados cursos-prouni.csv tem duas nomenclaturas para o mesmo curso, a saber: Ciência da Computação e Ciência**s** da Computação. Por isso, os filtros de busca foram todos feitos considerando essa mudança.*  "
      ],
      "metadata": {
        "id": "oZb6i6RAN4Ye"
      }
    },
    {
      "cell_type": "code",
      "source": [
        "# Filtrar cursos apenas da região Nordeste que contenham \"Ciência da Computação\" ou \"Ciências da Computação\" no nome do curso\n",
        "cursos_ciencia_computacao_nordeste = merged[(merged['region'] == 'NE') & (merged['curso_busca'].str.contains('Ciência[s]* da Computação'))]\n",
        "cursos_ciencia_computacao_sudeste = merged[(merged['region'] == 'SE') & (merged['curso_busca'].str.contains('Ciência[s]* da Computação'))]\n"
      ],
      "metadata": {
        "id": "-F0B1GCn49-W"
      },
      "execution_count": 439,
      "outputs": []
    },
    {
      "cell_type": "code",
      "source": [
        "# Obtém os valores únicos da coluna 'uf_busca'\n",
        "regioes_ciencia_computacao = cursos_ciencia_computacao_nordeste['uf_busca'].unique()\n",
        "regioes_ciencia_computacao = cursos_ciencia_computacao_sudeste['uf_busca'].unique()"
      ],
      "metadata": {
        "id": "hfXq30u69LEG"
      },
      "execution_count": 440,
      "outputs": []
    },
    {
      "cell_type": "markdown",
      "source": [
        "### ***Questão 01 - Qual a diferença entre as mensalidades médias e medianas dos cursos de Ciência da Computação das regiões Nordeste e Sudeste? Na sua opinião, o que causa essa diferença? Ela é estatisticamente significativa? Justifique.***"
      ],
      "metadata": {
        "id": "yJ728IKvt5Uw"
      }
    },
    {
      "cell_type": "code",
      "source": [
        "# Calcula a soma total dos valores das mensalidades para todos os cursos de Ciência da Computação na região Nordeste\n",
        "soma_mensalidades = cursos_ciencia_computacao_nordeste['mensalidade'].sum()\n",
        "\n",
        "# Conta o número total de cursos de Ciência da Computação na região Nordeste\n",
        "total_cursos = cursos_ciencia_computacao_nordeste.shape[0]\n",
        "\n",
        "# Calcula a média dos valores das mensalidades para todos os cursos de Ciência da Computação na região Nordeste\n",
        "media_mensalidades_nordeste = soma_mensalidades / total_cursos\n",
        "\n",
        "# Calcula a mediana dos valores das mensalidades para todos os cursos de Ciência da Computação na região Nordeste\n",
        "mediana_mensalidades_nordeste = cursos_ciencia_computacao_nordeste['mensalidade'].median()"
      ],
      "metadata": {
        "id": "lqGaF9RDoQQV"
      },
      "execution_count": 441,
      "outputs": []
    },
    {
      "cell_type": "code",
      "source": [
        "# Cria um DataFrame com os dados\n",
        "dados = {\n",
        "    'Estatística': ['Média', 'Mediana'],\n",
        "    'Valor (R$)': [media_mensalidades_nordeste, mediana_mensalidades_nordeste]\n",
        "}\n",
        "df = pd.DataFrame(dados)\n",
        "\n",
        "df['Valor (R$)'] = df['Valor (R$)'].map('{:.2f}'.format)\n",
        "\n",
        "df_styled = df.style.set_properties(**{'text-align': 'center', 'width': '300px'}).set_table_styles(\n",
        "    [dict(selector='th', props=[('text-align', 'center')]),\n",
        "      dict(selector='caption', props=[('font-size', '16px'), ('font-weight', 'bold')])]\n",
        ").set_caption(\"Mensalidades dos Cursos de Ciência da Computação na Região Nordeste\")\n",
        "\n",
        "df_styled.set_table_attributes('style=\"width:100%;\"')\n",
        "df_styled"
      ],
      "metadata": {
        "colab": {
          "base_uri": "https://localhost:8080/",
          "height": 132
        },
        "id": "03q-naL0bO-T",
        "outputId": "ed6198de-df05-4f2b-f97c-6fcfdacedb3d"
      },
      "execution_count": 442,
      "outputs": [
        {
          "output_type": "execute_result",
          "data": {
            "text/plain": [
              "<pandas.io.formats.style.Styler at 0x7e4ab0c4fd60>"
            ],
            "text/html": [
              "<style type=\"text/css\">\n",
              "#T_101b6 th {\n",
              "  text-align: center;\n",
              "}\n",
              "#T_101b6 caption {\n",
              "  font-size: 16px;\n",
              "  font-weight: bold;\n",
              "}\n",
              "#T_101b6_row0_col0, #T_101b6_row0_col1, #T_101b6_row1_col0, #T_101b6_row1_col1 {\n",
              "  text-align: center;\n",
              "  width: 300px;\n",
              "}\n",
              "</style>\n",
              "<table id=\"T_101b6\" class=\"dataframe\">\n",
              "  <caption>Mensalidades dos Cursos de Ciência da Computação na Região Nordeste</caption>\n",
              "  <thead>\n",
              "    <tr>\n",
              "      <th class=\"blank level0\" >&nbsp;</th>\n",
              "      <th id=\"T_101b6_level0_col0\" class=\"col_heading level0 col0\" >Estatística</th>\n",
              "      <th id=\"T_101b6_level0_col1\" class=\"col_heading level0 col1\" >Valor (R$)</th>\n",
              "    </tr>\n",
              "  </thead>\n",
              "  <tbody>\n",
              "    <tr>\n",
              "      <th id=\"T_101b6_level0_row0\" class=\"row_heading level0 row0\" >0</th>\n",
              "      <td id=\"T_101b6_row0_col0\" class=\"data row0 col0\" >Média</td>\n",
              "      <td id=\"T_101b6_row0_col1\" class=\"data row0 col1\" >704.80</td>\n",
              "    </tr>\n",
              "    <tr>\n",
              "      <th id=\"T_101b6_level0_row1\" class=\"row_heading level0 row1\" >1</th>\n",
              "      <td id=\"T_101b6_row1_col0\" class=\"data row1 col0\" >Mediana</td>\n",
              "      <td id=\"T_101b6_row1_col1\" class=\"data row1 col1\" >677.83</td>\n",
              "    </tr>\n",
              "  </tbody>\n",
              "</table>\n"
            ]
          },
          "metadata": {},
          "execution_count": 442
        }
      ]
    },
    {
      "cell_type": "code",
      "source": [
        "#Os mesmos cálculos para a região Sudeste\n",
        "soma_mensalidades = cursos_ciencia_computacao_sudeste['mensalidade'].sum()\n",
        "total_cursos = cursos_ciencia_computacao_sudeste.shape[0]\n",
        "media_mensalidades_sudeste = soma_mensalidades / total_cursos\n",
        "mediana_mensalidades_sudeste = cursos_ciencia_computacao_sudeste['mensalidade'].median()"
      ],
      "metadata": {
        "id": "QkzCMRLY37_e"
      },
      "execution_count": 443,
      "outputs": []
    },
    {
      "cell_type": "code",
      "source": [
        "# Criar um DataFrame com os dados\n",
        "dados = {\n",
        "    'Estatística': ['Média', 'Mediana'],\n",
        "    'Valor (R$)': [media_mensalidades_sudeste, mediana_mensalidades_sudeste]\n",
        "}\n",
        "df = pd.DataFrame(dados)\n",
        "\n",
        "df['Valor (R$)'] = df['Valor (R$)'].map('{:.2f}'.format)\n",
        "\n",
        "df_styled = df.style.set_properties(**{'text-align': 'center', 'width': '300px'}).set_table_styles(\n",
        "    [dict(selector='th', props=[('text-align', 'center')]),\n",
        "      dict(selector='caption', props=[('font-size', '16px'), ('font-weight', 'bold')])]\n",
        ").set_caption(\"Mensalidades dos Cursos de Ciência da Computação na Região Sudeste\")\n",
        "\n",
        "df_styled.set_table_attributes('style=\"width:100%;\"')\n",
        "df_styled"
      ],
      "metadata": {
        "colab": {
          "base_uri": "https://localhost:8080/",
          "height": 132
        },
        "id": "UvHCdoE0Vp5M",
        "outputId": "f75c6283-d872-455d-dae8-68b0d96ffd37"
      },
      "execution_count": 444,
      "outputs": [
        {
          "output_type": "execute_result",
          "data": {
            "text/plain": [
              "<pandas.io.formats.style.Styler at 0x7e4ab0f88490>"
            ],
            "text/html": [
              "<style type=\"text/css\">\n",
              "#T_88d0c th {\n",
              "  text-align: center;\n",
              "}\n",
              "#T_88d0c caption {\n",
              "  font-size: 16px;\n",
              "  font-weight: bold;\n",
              "}\n",
              "#T_88d0c_row0_col0, #T_88d0c_row0_col1, #T_88d0c_row1_col0, #T_88d0c_row1_col1 {\n",
              "  text-align: center;\n",
              "  width: 300px;\n",
              "}\n",
              "</style>\n",
              "<table id=\"T_88d0c\" class=\"dataframe\">\n",
              "  <caption>Mensalidades dos Cursos de Ciência da Computação na Região Sudeste</caption>\n",
              "  <thead>\n",
              "    <tr>\n",
              "      <th class=\"blank level0\" >&nbsp;</th>\n",
              "      <th id=\"T_88d0c_level0_col0\" class=\"col_heading level0 col0\" >Estatística</th>\n",
              "      <th id=\"T_88d0c_level0_col1\" class=\"col_heading level0 col1\" >Valor (R$)</th>\n",
              "    </tr>\n",
              "  </thead>\n",
              "  <tbody>\n",
              "    <tr>\n",
              "      <th id=\"T_88d0c_level0_row0\" class=\"row_heading level0 row0\" >0</th>\n",
              "      <td id=\"T_88d0c_row0_col0\" class=\"data row0 col0\" >Média</td>\n",
              "      <td id=\"T_88d0c_row0_col1\" class=\"data row0 col1\" >893.32</td>\n",
              "    </tr>\n",
              "    <tr>\n",
              "      <th id=\"T_88d0c_level0_row1\" class=\"row_heading level0 row1\" >1</th>\n",
              "      <td id=\"T_88d0c_row1_col0\" class=\"data row1 col0\" >Mediana</td>\n",
              "      <td id=\"T_88d0c_row1_col1\" class=\"data row1 col1\" >758.00</td>\n",
              "    </tr>\n",
              "  </tbody>\n",
              "</table>\n"
            ]
          },
          "metadata": {},
          "execution_count": 444
        }
      ]
    },
    {
      "cell_type": "code",
      "source": [
        "import plotly.express as px\n",
        "# Criar um DataFrame com os dados\n",
        "dados = {\n",
        "    'Região': ['Nordeste', 'Nordeste', 'Sudeste', 'Sudeste'],\n",
        "    'Estatística': ['Média', 'Mediana', 'Média', 'Mediana'],\n",
        "    'Valor': [media_mensalidades_nordeste, mediana_mensalidades_nordeste,\n",
        "              media_mensalidades_sudeste, mediana_mensalidades_sudeste]\n",
        "}\n",
        "df = pd.DataFrame(dados)\n",
        "\n",
        "fig = px.bar(df, x='Região', y='Valor', color='Estatística', barmode='group',\n",
        "             title='Comparação das Mensalidades por Região',\n",
        "             labels={'Valor': 'Valor da Mensalidade (R$)', 'Região': 'Região'},\n",
        "             template='plotly_dark',\n",
        "             color_discrete_sequence=px.colors.sequential.Viridis)\n",
        "\n",
        "fig.update_xaxes(title_text='Região')\n",
        "fig.update_yaxes(title_text='Valor da Mensalidade (R$)')\n",
        "fig.show()"
      ],
      "metadata": {
        "colab": {
          "base_uri": "https://localhost:8080/",
          "height": 542
        },
        "id": "UTD2f0OM9x6Y",
        "outputId": "ad4adeb4-23c8-49d7-ad96-2659dc948486"
      },
      "execution_count": 445,
      "outputs": [
        {
          "output_type": "display_data",
          "data": {
            "text/html": [
              "<html>\n",
              "<head><meta charset=\"utf-8\" /></head>\n",
              "<body>\n",
              "    <div>            <script src=\"https://cdnjs.cloudflare.com/ajax/libs/mathjax/2.7.5/MathJax.js?config=TeX-AMS-MML_SVG\"></script><script type=\"text/javascript\">if (window.MathJax && window.MathJax.Hub && window.MathJax.Hub.Config) {window.MathJax.Hub.Config({SVG: {font: \"STIX-Web\"}});}</script>                <script type=\"text/javascript\">window.PlotlyConfig = {MathJaxConfig: 'local'};</script>\n",
              "        <script charset=\"utf-8\" src=\"https://cdn.plot.ly/plotly-2.24.1.min.js\"></script>                <div id=\"48e84255-b987-4aaa-ac90-b8c856af217a\" class=\"plotly-graph-div\" style=\"height:525px; width:100%;\"></div>            <script type=\"text/javascript\">                                    window.PLOTLYENV=window.PLOTLYENV || {};                                    if (document.getElementById(\"48e84255-b987-4aaa-ac90-b8c856af217a\")) {                    Plotly.newPlot(                        \"48e84255-b987-4aaa-ac90-b8c856af217a\",                        [{\"alignmentgroup\":\"True\",\"hovertemplate\":\"Estat\\u00edstica=M\\u00e9dia\\u003cbr\\u003eRegi\\u00e3o=%{x}\\u003cbr\\u003eValor da Mensalidade (R$)=%{y}\\u003cextra\\u003e\\u003c\\u002fextra\\u003e\",\"legendgroup\":\"M\\u00e9dia\",\"marker\":{\"color\":\"#440154\",\"pattern\":{\"shape\":\"\"}},\"name\":\"M\\u00e9dia\",\"offsetgroup\":\"M\\u00e9dia\",\"orientation\":\"v\",\"showlegend\":true,\"textposition\":\"auto\",\"x\":[\"Nordeste\",\"Sudeste\"],\"xaxis\":\"x\",\"y\":[704.8029411764704,893.3192173913044],\"yaxis\":\"y\",\"type\":\"bar\"},{\"alignmentgroup\":\"True\",\"hovertemplate\":\"Estat\\u00edstica=Mediana\\u003cbr\\u003eRegi\\u00e3o=%{x}\\u003cbr\\u003eValor da Mensalidade (R$)=%{y}\\u003cextra\\u003e\\u003c\\u002fextra\\u003e\",\"legendgroup\":\"Mediana\",\"marker\":{\"color\":\"#482878\",\"pattern\":{\"shape\":\"\"}},\"name\":\"Mediana\",\"offsetgroup\":\"Mediana\",\"orientation\":\"v\",\"showlegend\":true,\"textposition\":\"auto\",\"x\":[\"Nordeste\",\"Sudeste\"],\"xaxis\":\"x\",\"y\":[677.8299999999999,758.0],\"yaxis\":\"y\",\"type\":\"bar\"}],                        {\"template\":{\"data\":{\"barpolar\":[{\"marker\":{\"line\":{\"color\":\"rgb(17,17,17)\",\"width\":0.5},\"pattern\":{\"fillmode\":\"overlay\",\"size\":10,\"solidity\":0.2}},\"type\":\"barpolar\"}],\"bar\":[{\"error_x\":{\"color\":\"#f2f5fa\"},\"error_y\":{\"color\":\"#f2f5fa\"},\"marker\":{\"line\":{\"color\":\"rgb(17,17,17)\",\"width\":0.5},\"pattern\":{\"fillmode\":\"overlay\",\"size\":10,\"solidity\":0.2}},\"type\":\"bar\"}],\"carpet\":[{\"aaxis\":{\"endlinecolor\":\"#A2B1C6\",\"gridcolor\":\"#506784\",\"linecolor\":\"#506784\",\"minorgridcolor\":\"#506784\",\"startlinecolor\":\"#A2B1C6\"},\"baxis\":{\"endlinecolor\":\"#A2B1C6\",\"gridcolor\":\"#506784\",\"linecolor\":\"#506784\",\"minorgridcolor\":\"#506784\",\"startlinecolor\":\"#A2B1C6\"},\"type\":\"carpet\"}],\"choropleth\":[{\"colorbar\":{\"outlinewidth\":0,\"ticks\":\"\"},\"type\":\"choropleth\"}],\"contourcarpet\":[{\"colorbar\":{\"outlinewidth\":0,\"ticks\":\"\"},\"type\":\"contourcarpet\"}],\"contour\":[{\"colorbar\":{\"outlinewidth\":0,\"ticks\":\"\"},\"colorscale\":[[0.0,\"#0d0887\"],[0.1111111111111111,\"#46039f\"],[0.2222222222222222,\"#7201a8\"],[0.3333333333333333,\"#9c179e\"],[0.4444444444444444,\"#bd3786\"],[0.5555555555555556,\"#d8576b\"],[0.6666666666666666,\"#ed7953\"],[0.7777777777777778,\"#fb9f3a\"],[0.8888888888888888,\"#fdca26\"],[1.0,\"#f0f921\"]],\"type\":\"contour\"}],\"heatmapgl\":[{\"colorbar\":{\"outlinewidth\":0,\"ticks\":\"\"},\"colorscale\":[[0.0,\"#0d0887\"],[0.1111111111111111,\"#46039f\"],[0.2222222222222222,\"#7201a8\"],[0.3333333333333333,\"#9c179e\"],[0.4444444444444444,\"#bd3786\"],[0.5555555555555556,\"#d8576b\"],[0.6666666666666666,\"#ed7953\"],[0.7777777777777778,\"#fb9f3a\"],[0.8888888888888888,\"#fdca26\"],[1.0,\"#f0f921\"]],\"type\":\"heatmapgl\"}],\"heatmap\":[{\"colorbar\":{\"outlinewidth\":0,\"ticks\":\"\"},\"colorscale\":[[0.0,\"#0d0887\"],[0.1111111111111111,\"#46039f\"],[0.2222222222222222,\"#7201a8\"],[0.3333333333333333,\"#9c179e\"],[0.4444444444444444,\"#bd3786\"],[0.5555555555555556,\"#d8576b\"],[0.6666666666666666,\"#ed7953\"],[0.7777777777777778,\"#fb9f3a\"],[0.8888888888888888,\"#fdca26\"],[1.0,\"#f0f921\"]],\"type\":\"heatmap\"}],\"histogram2dcontour\":[{\"colorbar\":{\"outlinewidth\":0,\"ticks\":\"\"},\"colorscale\":[[0.0,\"#0d0887\"],[0.1111111111111111,\"#46039f\"],[0.2222222222222222,\"#7201a8\"],[0.3333333333333333,\"#9c179e\"],[0.4444444444444444,\"#bd3786\"],[0.5555555555555556,\"#d8576b\"],[0.6666666666666666,\"#ed7953\"],[0.7777777777777778,\"#fb9f3a\"],[0.8888888888888888,\"#fdca26\"],[1.0,\"#f0f921\"]],\"type\":\"histogram2dcontour\"}],\"histogram2d\":[{\"colorbar\":{\"outlinewidth\":0,\"ticks\":\"\"},\"colorscale\":[[0.0,\"#0d0887\"],[0.1111111111111111,\"#46039f\"],[0.2222222222222222,\"#7201a8\"],[0.3333333333333333,\"#9c179e\"],[0.4444444444444444,\"#bd3786\"],[0.5555555555555556,\"#d8576b\"],[0.6666666666666666,\"#ed7953\"],[0.7777777777777778,\"#fb9f3a\"],[0.8888888888888888,\"#fdca26\"],[1.0,\"#f0f921\"]],\"type\":\"histogram2d\"}],\"histogram\":[{\"marker\":{\"pattern\":{\"fillmode\":\"overlay\",\"size\":10,\"solidity\":0.2}},\"type\":\"histogram\"}],\"mesh3d\":[{\"colorbar\":{\"outlinewidth\":0,\"ticks\":\"\"},\"type\":\"mesh3d\"}],\"parcoords\":[{\"line\":{\"colorbar\":{\"outlinewidth\":0,\"ticks\":\"\"}},\"type\":\"parcoords\"}],\"pie\":[{\"automargin\":true,\"type\":\"pie\"}],\"scatter3d\":[{\"line\":{\"colorbar\":{\"outlinewidth\":0,\"ticks\":\"\"}},\"marker\":{\"colorbar\":{\"outlinewidth\":0,\"ticks\":\"\"}},\"type\":\"scatter3d\"}],\"scattercarpet\":[{\"marker\":{\"colorbar\":{\"outlinewidth\":0,\"ticks\":\"\"}},\"type\":\"scattercarpet\"}],\"scattergeo\":[{\"marker\":{\"colorbar\":{\"outlinewidth\":0,\"ticks\":\"\"}},\"type\":\"scattergeo\"}],\"scattergl\":[{\"marker\":{\"line\":{\"color\":\"#283442\"}},\"type\":\"scattergl\"}],\"scattermapbox\":[{\"marker\":{\"colorbar\":{\"outlinewidth\":0,\"ticks\":\"\"}},\"type\":\"scattermapbox\"}],\"scatterpolargl\":[{\"marker\":{\"colorbar\":{\"outlinewidth\":0,\"ticks\":\"\"}},\"type\":\"scatterpolargl\"}],\"scatterpolar\":[{\"marker\":{\"colorbar\":{\"outlinewidth\":0,\"ticks\":\"\"}},\"type\":\"scatterpolar\"}],\"scatter\":[{\"marker\":{\"line\":{\"color\":\"#283442\"}},\"type\":\"scatter\"}],\"scatterternary\":[{\"marker\":{\"colorbar\":{\"outlinewidth\":0,\"ticks\":\"\"}},\"type\":\"scatterternary\"}],\"surface\":[{\"colorbar\":{\"outlinewidth\":0,\"ticks\":\"\"},\"colorscale\":[[0.0,\"#0d0887\"],[0.1111111111111111,\"#46039f\"],[0.2222222222222222,\"#7201a8\"],[0.3333333333333333,\"#9c179e\"],[0.4444444444444444,\"#bd3786\"],[0.5555555555555556,\"#d8576b\"],[0.6666666666666666,\"#ed7953\"],[0.7777777777777778,\"#fb9f3a\"],[0.8888888888888888,\"#fdca26\"],[1.0,\"#f0f921\"]],\"type\":\"surface\"}],\"table\":[{\"cells\":{\"fill\":{\"color\":\"#506784\"},\"line\":{\"color\":\"rgb(17,17,17)\"}},\"header\":{\"fill\":{\"color\":\"#2a3f5f\"},\"line\":{\"color\":\"rgb(17,17,17)\"}},\"type\":\"table\"}]},\"layout\":{\"annotationdefaults\":{\"arrowcolor\":\"#f2f5fa\",\"arrowhead\":0,\"arrowwidth\":1},\"autotypenumbers\":\"strict\",\"coloraxis\":{\"colorbar\":{\"outlinewidth\":0,\"ticks\":\"\"}},\"colorscale\":{\"diverging\":[[0,\"#8e0152\"],[0.1,\"#c51b7d\"],[0.2,\"#de77ae\"],[0.3,\"#f1b6da\"],[0.4,\"#fde0ef\"],[0.5,\"#f7f7f7\"],[0.6,\"#e6f5d0\"],[0.7,\"#b8e186\"],[0.8,\"#7fbc41\"],[0.9,\"#4d9221\"],[1,\"#276419\"]],\"sequential\":[[0.0,\"#0d0887\"],[0.1111111111111111,\"#46039f\"],[0.2222222222222222,\"#7201a8\"],[0.3333333333333333,\"#9c179e\"],[0.4444444444444444,\"#bd3786\"],[0.5555555555555556,\"#d8576b\"],[0.6666666666666666,\"#ed7953\"],[0.7777777777777778,\"#fb9f3a\"],[0.8888888888888888,\"#fdca26\"],[1.0,\"#f0f921\"]],\"sequentialminus\":[[0.0,\"#0d0887\"],[0.1111111111111111,\"#46039f\"],[0.2222222222222222,\"#7201a8\"],[0.3333333333333333,\"#9c179e\"],[0.4444444444444444,\"#bd3786\"],[0.5555555555555556,\"#d8576b\"],[0.6666666666666666,\"#ed7953\"],[0.7777777777777778,\"#fb9f3a\"],[0.8888888888888888,\"#fdca26\"],[1.0,\"#f0f921\"]]},\"colorway\":[\"#636efa\",\"#EF553B\",\"#00cc96\",\"#ab63fa\",\"#FFA15A\",\"#19d3f3\",\"#FF6692\",\"#B6E880\",\"#FF97FF\",\"#FECB52\"],\"font\":{\"color\":\"#f2f5fa\"},\"geo\":{\"bgcolor\":\"rgb(17,17,17)\",\"lakecolor\":\"rgb(17,17,17)\",\"landcolor\":\"rgb(17,17,17)\",\"showlakes\":true,\"showland\":true,\"subunitcolor\":\"#506784\"},\"hoverlabel\":{\"align\":\"left\"},\"hovermode\":\"closest\",\"mapbox\":{\"style\":\"dark\"},\"paper_bgcolor\":\"rgb(17,17,17)\",\"plot_bgcolor\":\"rgb(17,17,17)\",\"polar\":{\"angularaxis\":{\"gridcolor\":\"#506784\",\"linecolor\":\"#506784\",\"ticks\":\"\"},\"bgcolor\":\"rgb(17,17,17)\",\"radialaxis\":{\"gridcolor\":\"#506784\",\"linecolor\":\"#506784\",\"ticks\":\"\"}},\"scene\":{\"xaxis\":{\"backgroundcolor\":\"rgb(17,17,17)\",\"gridcolor\":\"#506784\",\"gridwidth\":2,\"linecolor\":\"#506784\",\"showbackground\":true,\"ticks\":\"\",\"zerolinecolor\":\"#C8D4E3\"},\"yaxis\":{\"backgroundcolor\":\"rgb(17,17,17)\",\"gridcolor\":\"#506784\",\"gridwidth\":2,\"linecolor\":\"#506784\",\"showbackground\":true,\"ticks\":\"\",\"zerolinecolor\":\"#C8D4E3\"},\"zaxis\":{\"backgroundcolor\":\"rgb(17,17,17)\",\"gridcolor\":\"#506784\",\"gridwidth\":2,\"linecolor\":\"#506784\",\"showbackground\":true,\"ticks\":\"\",\"zerolinecolor\":\"#C8D4E3\"}},\"shapedefaults\":{\"line\":{\"color\":\"#f2f5fa\"}},\"sliderdefaults\":{\"bgcolor\":\"#C8D4E3\",\"bordercolor\":\"rgb(17,17,17)\",\"borderwidth\":1,\"tickwidth\":0},\"ternary\":{\"aaxis\":{\"gridcolor\":\"#506784\",\"linecolor\":\"#506784\",\"ticks\":\"\"},\"baxis\":{\"gridcolor\":\"#506784\",\"linecolor\":\"#506784\",\"ticks\":\"\"},\"bgcolor\":\"rgb(17,17,17)\",\"caxis\":{\"gridcolor\":\"#506784\",\"linecolor\":\"#506784\",\"ticks\":\"\"}},\"title\":{\"x\":0.05},\"updatemenudefaults\":{\"bgcolor\":\"#506784\",\"borderwidth\":0},\"xaxis\":{\"automargin\":true,\"gridcolor\":\"#283442\",\"linecolor\":\"#506784\",\"ticks\":\"\",\"title\":{\"standoff\":15},\"zerolinecolor\":\"#283442\",\"zerolinewidth\":2},\"yaxis\":{\"automargin\":true,\"gridcolor\":\"#283442\",\"linecolor\":\"#506784\",\"ticks\":\"\",\"title\":{\"standoff\":15},\"zerolinecolor\":\"#283442\",\"zerolinewidth\":2}}},\"xaxis\":{\"anchor\":\"y\",\"domain\":[0.0,1.0],\"title\":{\"text\":\"Regi\\u00e3o\"}},\"yaxis\":{\"anchor\":\"x\",\"domain\":[0.0,1.0],\"title\":{\"text\":\"Valor da Mensalidade (R$)\"}},\"legend\":{\"title\":{\"text\":\"Estat\\u00edstica\"},\"tracegroupgap\":0},\"title\":{\"text\":\"Compara\\u00e7\\u00e3o das Mensalidades por Regi\\u00e3o\"},\"barmode\":\"group\"},                        {\"responsive\": true}                    ).then(function(){\n",
              "                            \n",
              "var gd = document.getElementById('48e84255-b987-4aaa-ac90-b8c856af217a');\n",
              "var x = new MutationObserver(function (mutations, observer) {{\n",
              "        var display = window.getComputedStyle(gd).display;\n",
              "        if (!display || display === 'none') {{\n",
              "            console.log([gd, 'removed!']);\n",
              "            Plotly.purge(gd);\n",
              "            observer.disconnect();\n",
              "        }}\n",
              "}});\n",
              "\n",
              "// Listen for the removal of the full notebook cells\n",
              "var notebookContainer = gd.closest('#notebook-container');\n",
              "if (notebookContainer) {{\n",
              "    x.observe(notebookContainer, {childList: true});\n",
              "}}\n",
              "\n",
              "// Listen for the clearing of the current output cell\n",
              "var outputEl = gd.closest('.output');\n",
              "if (outputEl) {{\n",
              "    x.observe(outputEl, {childList: true});\n",
              "}}\n",
              "\n",
              "                        })                };                            </script>        </div>\n",
              "</body>\n",
              "</html>"
            ]
          },
          "metadata": {}
        }
      ]
    },
    {
      "cell_type": "markdown",
      "source": [
        "*Cálculo do desvio padrão com o objetivo de posteriormente calcular a significância estatística.*\n",
        "\n"
      ],
      "metadata": {
        "id": "Nmc2suW3F14L"
      }
    },
    {
      "cell_type": "code",
      "source": [
        "# Calcula o desvio padrão das mensalidades para esses cursos\n",
        "std_mensalidades_nordeste = cursos_ciencia_computacao_nordeste['mensalidade'].std()\n",
        "std_mensalidades_sudeste = cursos_ciencia_computacao_sudeste['mensalidade'].std()\n",
        "std_mensalidades_formatado_N = round(std_mensalidades_nordeste, 2)\n",
        "std_mensalidades_formatado_S = round(std_mensalidades_sudeste, 2)\n",
        "\n",
        "print(f\"O desvio padrão das mensalidades dos cursos de Ciência da Computação na região Nordeste é {std_mensalidades_formatado_N:.2f}.\\n\")\n",
        "print(f\"O desvio padrão das mensalidades dos cursos de Ciência da Computação na região Sudeste é {std_mensalidades_formatado_S:.2f}.\")\n",
        "\n"
      ],
      "metadata": {
        "colab": {
          "base_uri": "https://localhost:8080/",
          "height": 0
        },
        "id": "wjFEiM29iimx",
        "outputId": "847dcfbb-14c3-4663-e850-35165a99c372"
      },
      "execution_count": 446,
      "outputs": [
        {
          "output_type": "stream",
          "name": "stdout",
          "text": [
            "O desvio padrão das mensalidades dos cursos de Ciência da Computação na região Nordeste é 234.71.\n",
            "\n",
            "O desvio padrão das mensalidades dos cursos de Ciência da Computação na região Sudeste é 446.76.\n"
          ]
        }
      ]
    },
    {
      "cell_type": "markdown",
      "source": [
        "*Calculando a significância estatística da diferença entre as mensalidades médias e medianas dos cursos de Ciência da Computação nas regiões Nordeste e Sudeste*"
      ],
      "metadata": {
        "id": "1N8a7DNbFCgo"
      }
    },
    {
      "cell_type": "code",
      "source": [
        "from scipy import stats\n",
        "total_cursos_sudeste = cursos_ciencia_computacao_sudeste.shape[0]\n",
        "total_cursos_nordeste = cursos_ciencia_computacao_nordeste.shape[0]\n",
        "\n",
        "# Calcula o teste t para a média das mensalidades\n",
        "t_test_media = stats.ttest_ind_from_stats(mean1=media_mensalidades_nordeste, std1=std_mensalidades_formatado_N, nobs1=total_cursos_nordeste,\n",
        "                                          mean2=media_mensalidades_sudeste, std2=std_mensalidades_formatado_S, nobs2=total_cursos_sudeste)\n",
        "\n",
        "# Calcula o teste t para a mediana das mensalidades\n",
        "t_test_mediana = stats.ttest_ind_from_stats(mean1=mediana_mensalidades_nordeste, std1=std_mensalidades_formatado_N, nobs1=total_cursos_nordeste,\n",
        "                                            mean2=mediana_mensalidades_sudeste, std2=std_mensalidades_formatado_S, nobs2=total_cursos_sudeste)\n",
        "# Avalia a significância estatística\n",
        "alpha = 0.05  # Nível de significância\n",
        "if t_test_media.pvalue < alpha:\n",
        "    print(\"A diferença entre as médias das mensalidades é estatisticamente significativa.\\n\")\n",
        "else:\n",
        "    print(\"A diferença entre as médias das mensalidades não é estatisticamente significativa.\")\n",
        "if t_test_mediana.pvalue < alpha:\n",
        "    print(\"A diferença entre as medianas das mensalidades é estatisticamente significativa.\")\n",
        "else:\n",
        "    print(\"A diferença entre as medianas das mensalidades não é estatisticamente significativa.\")"
      ],
      "metadata": {
        "colab": {
          "base_uri": "https://localhost:8080/",
          "height": 0
        },
        "id": "hBCoB8EXoSKN",
        "outputId": "e3b0ff4e-f528-45d2-b721-0b7e6463c341"
      },
      "execution_count": 447,
      "outputs": [
        {
          "output_type": "stream",
          "name": "stdout",
          "text": [
            "A diferença entre as médias das mensalidades é estatisticamente significativa.\n",
            "\n",
            "A diferença entre as medianas das mensalidades não é estatisticamente significativa.\n"
          ]
        }
      ]
    },
    {
      "cell_type": "markdown",
      "source": [
        "1. **Média das Mensalidades:**\n",
        "   - Região Nordeste: Média das mensalidades é **R$ 704.80**.\n",
        "\n",
        "   - Região Sudeste: Média das mensalidades é **R$ 893.32**.\n",
        "   - Diferença: A média das mensalidades na região Sudeste é **maior** do que na região Nordeste.\n",
        "\n",
        "2. **Mediana das Mensalidades:**\n",
        "   - Região Nordeste: Mediana das mensalidades é **R$ 677.83**.\n",
        "   \n",
        "   - Região Sudeste: Mediana das mensalidades é **R$ 758.00**.\n",
        "   - Diferença: A mediana das mensalidades na região Sudeste também é **maior** do que na região Nordeste.\n",
        "\n",
        "**Causas Possíveis:**\n",
        "- **Variação de Custos:** A diferença pode ser atribuída a variações nos custos de ensino, infraestrutura e localização entre as duas regiões.\n",
        "- **Demanda e Oferta:** A demanda e oferta por cursos de Ciência da Computação podem ser diferentes nas regiões, afetando os preços.\n",
        "- **Qualidade Percebida:** A percepção de qualidade dos cursos pode influenciar os valores cobrados.\n",
        "\n",
        "Ou seja, as causas para essas diferenças podem incluir fatores como o custo de vida, a demanda por cursos de Ciência da Computação, a qualidade das instituições de ensino e a renda média das famílias nas respectivas regiões. Por exemplo, o custo de vida geralmente é mais alto em alguns lugares da região Sudeste, o que pode levar a mensalidades mais altas. Além disso, instituições de ensino com maior prestígio ou melhor infraestrutura podem cobrar mais por seus cursos.\n",
        "\n",
        "**Significância Estatística:**\n",
        "- A diferença entre as médias é estatisticamente significativa, indicando que há uma diferença real entre as médias das mensalidades.\n",
        "- No entanto, a diferença entre as medianas não é estatisticamente significativa, o que sugere que a distribuição das mensalidades pode ser semelhante em ambas as regiões.\n",
        "\n",
        "Em resumo, a diferença nas mensalidades entre as regiões é real e estatisticamente significativa para a média, mas não para a mediana. Essa diferença pode ser influenciada por diversos fatores, à exemplo, econômicos e educacionais."
      ],
      "metadata": {
        "id": "E1HBGWcjtvDO"
      }
    },
    {
      "cell_type": "markdown",
      "source": [
        "### ***Q2 - Quais são os top 10 cursos com maior valor de mensalidade pelo total de bolsas (diferentes tipos)? Existe uma relação entre o valor total de mensalidade e o total de bolsas por curso? Justifique.***"
      ],
      "metadata": {
        "id": "8swjNtzr-KnJ"
      }
    },
    {
      "cell_type": "code",
      "source": [
        "import pandas as pd\n",
        "merged['bolsa_integral_cotas'] = pd.to_numeric(merged['bolsa_integral_cotas'], errors='coerce').fillna(0)\n",
        "merged['bolsa_integral_ampla'] = pd.to_numeric(merged['bolsa_integral_ampla'], errors='coerce').fillna(0)\n",
        "merged['bolsa_parcial_cotas'] = pd.to_numeric(merged['bolsa_parcial_cotas'], errors='coerce').fillna(0)\n",
        "merged['bolsa_parcial_ampla'] = pd.to_numeric(merged['bolsa_parcial_ampla'], errors='coerce').fillna(0)\n",
        "\n",
        "# Calcula o total de bolsas para cada curso\n",
        "merged['total_bolsas'] = (merged['bolsa_integral_cotas'] + merged['bolsa_integral_ampla'] +\n",
        "                          merged['bolsa_parcial_cotas'] + merged['bolsa_parcial_ampla']).astype(int)\n",
        "# Agrupa os cursos pelo nome e some as bolsas e a média da mensalidade para cada grupo\n",
        "grouped_df = merged.groupby('curso_busca').agg({\n",
        "    'total_bolsas': 'sum',\n",
        "    'mensalidade': 'mean'\n",
        "}).reset_index()\n",
        "\n",
        "# Ordena os grupos pela 'total_bolsas' em ordem decrescente e selecione os 10 primeiros\n",
        "top10_cursos = grouped_df.sort_values(by='total_bolsas', ascending=False).head(10)\n",
        "\n",
        "top10_cursos['mensalidade'] = top10_cursos['mensalidade'].map('{:.2f}'.format)\n",
        "\n",
        "top10_cursos_styled = top10_cursos.style.set_properties(**{'text-align': 'center', 'width': '300px'}).set_table_styles(\n",
        "    [dict(selector='th', props=[('text-align', 'center')]),\n",
        "      dict(selector='caption', props=[('font-size', '16px'), ('font-weight', 'bold')])]\n",
        ").set_caption(\"Top 10 Cursos por Total de Bolsas e Valor de Mensalidade\")\n",
        "\n",
        "top10_cursos_styled.set_table_attributes('style=\"width:100%;\"')\n",
        "top10_cursos_styled"
      ],
      "metadata": {
        "colab": {
          "base_uri": "https://localhost:8080/",
          "height": 382
        },
        "id": "U_NIy-aJCzPi",
        "outputId": "f9352637-7fd7-4ad6-bf6f-74a159134799"
      },
      "execution_count": 448,
      "outputs": [
        {
          "output_type": "execute_result",
          "data": {
            "text/plain": [
              "<pandas.io.formats.style.Styler at 0x7e4ab0801510>"
            ],
            "text/html": [
              "<style type=\"text/css\">\n",
              "#T_8ac6e th {\n",
              "  text-align: center;\n",
              "}\n",
              "#T_8ac6e caption {\n",
              "  font-size: 16px;\n",
              "  font-weight: bold;\n",
              "}\n",
              "#T_8ac6e_row0_col0, #T_8ac6e_row0_col1, #T_8ac6e_row0_col2, #T_8ac6e_row1_col0, #T_8ac6e_row1_col1, #T_8ac6e_row1_col2, #T_8ac6e_row2_col0, #T_8ac6e_row2_col1, #T_8ac6e_row2_col2, #T_8ac6e_row3_col0, #T_8ac6e_row3_col1, #T_8ac6e_row3_col2, #T_8ac6e_row4_col0, #T_8ac6e_row4_col1, #T_8ac6e_row4_col2, #T_8ac6e_row5_col0, #T_8ac6e_row5_col1, #T_8ac6e_row5_col2, #T_8ac6e_row6_col0, #T_8ac6e_row6_col1, #T_8ac6e_row6_col2, #T_8ac6e_row7_col0, #T_8ac6e_row7_col1, #T_8ac6e_row7_col2, #T_8ac6e_row8_col0, #T_8ac6e_row8_col1, #T_8ac6e_row8_col2, #T_8ac6e_row9_col0, #T_8ac6e_row9_col1, #T_8ac6e_row9_col2 {\n",
              "  text-align: center;\n",
              "  width: 300px;\n",
              "}\n",
              "</style>\n",
              "<table id=\"T_8ac6e\" class=\"dataframe\">\n",
              "  <caption>Top 10 Cursos por Total de Bolsas e Valor de Mensalidade</caption>\n",
              "  <thead>\n",
              "    <tr>\n",
              "      <th class=\"blank level0\" >&nbsp;</th>\n",
              "      <th id=\"T_8ac6e_level0_col0\" class=\"col_heading level0 col0\" >curso_busca</th>\n",
              "      <th id=\"T_8ac6e_level0_col1\" class=\"col_heading level0 col1\" >total_bolsas</th>\n",
              "      <th id=\"T_8ac6e_level0_col2\" class=\"col_heading level0 col2\" >mensalidade</th>\n",
              "    </tr>\n",
              "  </thead>\n",
              "  <tbody>\n",
              "    <tr>\n",
              "      <th id=\"T_8ac6e_level0_row0\" class=\"row_heading level0 row0\" >0</th>\n",
              "      <td id=\"T_8ac6e_row0_col0\" class=\"data row0 col0\" >Administração</td>\n",
              "      <td id=\"T_8ac6e_row0_col1\" class=\"data row0 col1\" >20761</td>\n",
              "      <td id=\"T_8ac6e_row0_col2\" class=\"data row0 col2\" >543.00</td>\n",
              "    </tr>\n",
              "    <tr>\n",
              "      <th id=\"T_8ac6e_level0_row1\" class=\"row_heading level0 row1\" >229</th>\n",
              "      <td id=\"T_8ac6e_row1_col0\" class=\"data row1 col0\" >Pedagogia</td>\n",
              "      <td id=\"T_8ac6e_row1_col1\" class=\"data row1 col1\" >19448</td>\n",
              "      <td id=\"T_8ac6e_row1_col2\" class=\"data row1 col2\" >370.15</td>\n",
              "    </tr>\n",
              "    <tr>\n",
              "      <th id=\"T_8ac6e_level0_row2\" class=\"row_heading level0 row2\" >73</th>\n",
              "      <td id=\"T_8ac6e_row2_col0\" class=\"data row2 col0\" >Direito</td>\n",
              "      <td id=\"T_8ac6e_row2_col1\" class=\"data row2 col1\" >14678</td>\n",
              "      <td id=\"T_8ac6e_row2_col2\" class=\"data row2 col2\" >1129.35</td>\n",
              "    </tr>\n",
              "    <tr>\n",
              "      <th id=\"T_8ac6e_level0_row3\" class=\"row_heading level0 row3\" >32</th>\n",
              "      <td id=\"T_8ac6e_row3_col0\" class=\"data row3 col0\" >Ciências Contábeis</td>\n",
              "      <td id=\"T_8ac6e_row3_col1\" class=\"data row3 col1\" >13145</td>\n",
              "      <td id=\"T_8ac6e_row3_col2\" class=\"data row3 col2\" >493.60</td>\n",
              "    </tr>\n",
              "    <tr>\n",
              "      <th id=\"T_8ac6e_level0_row4\" class=\"row_heading level0 row4\" >76</th>\n",
              "      <td id=\"T_8ac6e_row4_col0\" class=\"data row4 col0\" >Educação Física</td>\n",
              "      <td id=\"T_8ac6e_row4_col1\" class=\"data row4 col1\" >10914</td>\n",
              "      <td id=\"T_8ac6e_row4_col2\" class=\"data row4 col2\" >630.75</td>\n",
              "    </tr>\n",
              "    <tr>\n",
              "      <th id=\"T_8ac6e_level0_row5\" class=\"row_heading level0 row5\" >79</th>\n",
              "      <td id=\"T_8ac6e_row5_col0\" class=\"data row5 col0\" >Enfermagem</td>\n",
              "      <td id=\"T_8ac6e_row5_col1\" class=\"data row5 col1\" >10302</td>\n",
              "      <td id=\"T_8ac6e_row5_col2\" class=\"data row5 col2\" >1001.50</td>\n",
              "    </tr>\n",
              "    <tr>\n",
              "      <th id=\"T_8ac6e_level0_row6\" class=\"row_heading level0 row6\" >91</th>\n",
              "      <td id=\"T_8ac6e_row6_col0\" class=\"data row6 col0\" >Engenharia Civil</td>\n",
              "      <td id=\"T_8ac6e_row6_col1\" class=\"data row6 col1\" >9442</td>\n",
              "      <td id=\"T_8ac6e_row6_col2\" class=\"data row6 col2\" >1135.09</td>\n",
              "    </tr>\n",
              "    <tr>\n",
              "      <th id=\"T_8ac6e_level0_row7\" class=\"row_heading level0 row7\" >248</th>\n",
              "      <td id=\"T_8ac6e_row7_col0\" class=\"data row7 col0\" >Psicologia</td>\n",
              "      <td id=\"T_8ac6e_row7_col1\" class=\"data row7 col1\" >6779</td>\n",
              "      <td id=\"T_8ac6e_row7_col2\" class=\"data row7 col2\" >1131.45</td>\n",
              "    </tr>\n",
              "    <tr>\n",
              "      <th id=\"T_8ac6e_level0_row8\" class=\"row_heading level0 row8\" >169</th>\n",
              "      <td id=\"T_8ac6e_row8_col0\" class=\"data row8 col0\" >Gestão de Recursos Humanos</td>\n",
              "      <td id=\"T_8ac6e_row8_col1\" class=\"data row8 col1\" >6665</td>\n",
              "      <td id=\"T_8ac6e_row8_col2\" class=\"data row8 col2\" >380.87</td>\n",
              "    </tr>\n",
              "    <tr>\n",
              "      <th id=\"T_8ac6e_level0_row9\" class=\"row_heading level0 row9\" >119</th>\n",
              "      <td id=\"T_8ac6e_row9_col0\" class=\"data row9 col0\" >Engenharia de Produção</td>\n",
              "      <td id=\"T_8ac6e_row9_col1\" class=\"data row9 col1\" >5946</td>\n",
              "      <td id=\"T_8ac6e_row9_col2\" class=\"data row9 col2\" >905.36</td>\n",
              "    </tr>\n",
              "  </tbody>\n",
              "</table>\n"
            ]
          },
          "metadata": {},
          "execution_count": 448
        }
      ]
    },
    {
      "cell_type": "code",
      "source": [
        "import plotly.express as px\n",
        "top10_cursos = grouped_df.sort_values(by='total_bolsas', ascending=False).head(10)\n",
        "\n",
        "fig = px.bar(top10_cursos, x='total_bolsas', y='curso_busca', orientation='h',\n",
        "             title='Top 10 Cursos por Total de Bolsas',\n",
        "             labels={'total_bolsas': 'Total de Bolsas', 'curso_busca': 'Curso'},\n",
        "             template='plotly_dark',\n",
        "             color='total_bolsas', color_continuous_scale='viridis')\n",
        "fig.show()\n"
      ],
      "metadata": {
        "colab": {
          "base_uri": "https://localhost:8080/",
          "height": 542
        },
        "id": "m3ezpXxA6_8H",
        "outputId": "e2239465-0b83-46c6-b369-76ac183dbe37"
      },
      "execution_count": 449,
      "outputs": [
        {
          "output_type": "display_data",
          "data": {
            "text/html": [
              "<html>\n",
              "<head><meta charset=\"utf-8\" /></head>\n",
              "<body>\n",
              "    <div>            <script src=\"https://cdnjs.cloudflare.com/ajax/libs/mathjax/2.7.5/MathJax.js?config=TeX-AMS-MML_SVG\"></script><script type=\"text/javascript\">if (window.MathJax && window.MathJax.Hub && window.MathJax.Hub.Config) {window.MathJax.Hub.Config({SVG: {font: \"STIX-Web\"}});}</script>                <script type=\"text/javascript\">window.PlotlyConfig = {MathJaxConfig: 'local'};</script>\n",
              "        <script charset=\"utf-8\" src=\"https://cdn.plot.ly/plotly-2.24.1.min.js\"></script>                <div id=\"9c2ad143-7cb6-480a-8bee-6758fe1fccd2\" class=\"plotly-graph-div\" style=\"height:525px; width:100%;\"></div>            <script type=\"text/javascript\">                                    window.PLOTLYENV=window.PLOTLYENV || {};                                    if (document.getElementById(\"9c2ad143-7cb6-480a-8bee-6758fe1fccd2\")) {                    Plotly.newPlot(                        \"9c2ad143-7cb6-480a-8bee-6758fe1fccd2\",                        [{\"alignmentgroup\":\"True\",\"hovertemplate\":\"Total de Bolsas=%{marker.color}\\u003cbr\\u003eCurso=%{y}\\u003cextra\\u003e\\u003c\\u002fextra\\u003e\",\"legendgroup\":\"\",\"marker\":{\"color\":[20761,19448,14678,13145,10914,10302,9442,6779,6665,5946],\"coloraxis\":\"coloraxis\",\"pattern\":{\"shape\":\"\"}},\"name\":\"\",\"offsetgroup\":\"\",\"orientation\":\"h\",\"showlegend\":false,\"textposition\":\"auto\",\"x\":[20761,19448,14678,13145,10914,10302,9442,6779,6665,5946],\"xaxis\":\"x\",\"y\":[\"Administra\\u00e7\\u00e3o\",\"Pedagogia\",\"Direito\",\"Ci\\u00eancias Cont\\u00e1beis\",\"Educa\\u00e7\\u00e3o F\\u00edsica\",\"Enfermagem\",\"Engenharia Civil\",\"Psicologia\",\"Gest\\u00e3o de Recursos Humanos\",\"Engenharia de Produ\\u00e7\\u00e3o\"],\"yaxis\":\"y\",\"type\":\"bar\"}],                        {\"template\":{\"data\":{\"barpolar\":[{\"marker\":{\"line\":{\"color\":\"rgb(17,17,17)\",\"width\":0.5},\"pattern\":{\"fillmode\":\"overlay\",\"size\":10,\"solidity\":0.2}},\"type\":\"barpolar\"}],\"bar\":[{\"error_x\":{\"color\":\"#f2f5fa\"},\"error_y\":{\"color\":\"#f2f5fa\"},\"marker\":{\"line\":{\"color\":\"rgb(17,17,17)\",\"width\":0.5},\"pattern\":{\"fillmode\":\"overlay\",\"size\":10,\"solidity\":0.2}},\"type\":\"bar\"}],\"carpet\":[{\"aaxis\":{\"endlinecolor\":\"#A2B1C6\",\"gridcolor\":\"#506784\",\"linecolor\":\"#506784\",\"minorgridcolor\":\"#506784\",\"startlinecolor\":\"#A2B1C6\"},\"baxis\":{\"endlinecolor\":\"#A2B1C6\",\"gridcolor\":\"#506784\",\"linecolor\":\"#506784\",\"minorgridcolor\":\"#506784\",\"startlinecolor\":\"#A2B1C6\"},\"type\":\"carpet\"}],\"choropleth\":[{\"colorbar\":{\"outlinewidth\":0,\"ticks\":\"\"},\"type\":\"choropleth\"}],\"contourcarpet\":[{\"colorbar\":{\"outlinewidth\":0,\"ticks\":\"\"},\"type\":\"contourcarpet\"}],\"contour\":[{\"colorbar\":{\"outlinewidth\":0,\"ticks\":\"\"},\"colorscale\":[[0.0,\"#0d0887\"],[0.1111111111111111,\"#46039f\"],[0.2222222222222222,\"#7201a8\"],[0.3333333333333333,\"#9c179e\"],[0.4444444444444444,\"#bd3786\"],[0.5555555555555556,\"#d8576b\"],[0.6666666666666666,\"#ed7953\"],[0.7777777777777778,\"#fb9f3a\"],[0.8888888888888888,\"#fdca26\"],[1.0,\"#f0f921\"]],\"type\":\"contour\"}],\"heatmapgl\":[{\"colorbar\":{\"outlinewidth\":0,\"ticks\":\"\"},\"colorscale\":[[0.0,\"#0d0887\"],[0.1111111111111111,\"#46039f\"],[0.2222222222222222,\"#7201a8\"],[0.3333333333333333,\"#9c179e\"],[0.4444444444444444,\"#bd3786\"],[0.5555555555555556,\"#d8576b\"],[0.6666666666666666,\"#ed7953\"],[0.7777777777777778,\"#fb9f3a\"],[0.8888888888888888,\"#fdca26\"],[1.0,\"#f0f921\"]],\"type\":\"heatmapgl\"}],\"heatmap\":[{\"colorbar\":{\"outlinewidth\":0,\"ticks\":\"\"},\"colorscale\":[[0.0,\"#0d0887\"],[0.1111111111111111,\"#46039f\"],[0.2222222222222222,\"#7201a8\"],[0.3333333333333333,\"#9c179e\"],[0.4444444444444444,\"#bd3786\"],[0.5555555555555556,\"#d8576b\"],[0.6666666666666666,\"#ed7953\"],[0.7777777777777778,\"#fb9f3a\"],[0.8888888888888888,\"#fdca26\"],[1.0,\"#f0f921\"]],\"type\":\"heatmap\"}],\"histogram2dcontour\":[{\"colorbar\":{\"outlinewidth\":0,\"ticks\":\"\"},\"colorscale\":[[0.0,\"#0d0887\"],[0.1111111111111111,\"#46039f\"],[0.2222222222222222,\"#7201a8\"],[0.3333333333333333,\"#9c179e\"],[0.4444444444444444,\"#bd3786\"],[0.5555555555555556,\"#d8576b\"],[0.6666666666666666,\"#ed7953\"],[0.7777777777777778,\"#fb9f3a\"],[0.8888888888888888,\"#fdca26\"],[1.0,\"#f0f921\"]],\"type\":\"histogram2dcontour\"}],\"histogram2d\":[{\"colorbar\":{\"outlinewidth\":0,\"ticks\":\"\"},\"colorscale\":[[0.0,\"#0d0887\"],[0.1111111111111111,\"#46039f\"],[0.2222222222222222,\"#7201a8\"],[0.3333333333333333,\"#9c179e\"],[0.4444444444444444,\"#bd3786\"],[0.5555555555555556,\"#d8576b\"],[0.6666666666666666,\"#ed7953\"],[0.7777777777777778,\"#fb9f3a\"],[0.8888888888888888,\"#fdca26\"],[1.0,\"#f0f921\"]],\"type\":\"histogram2d\"}],\"histogram\":[{\"marker\":{\"pattern\":{\"fillmode\":\"overlay\",\"size\":10,\"solidity\":0.2}},\"type\":\"histogram\"}],\"mesh3d\":[{\"colorbar\":{\"outlinewidth\":0,\"ticks\":\"\"},\"type\":\"mesh3d\"}],\"parcoords\":[{\"line\":{\"colorbar\":{\"outlinewidth\":0,\"ticks\":\"\"}},\"type\":\"parcoords\"}],\"pie\":[{\"automargin\":true,\"type\":\"pie\"}],\"scatter3d\":[{\"line\":{\"colorbar\":{\"outlinewidth\":0,\"ticks\":\"\"}},\"marker\":{\"colorbar\":{\"outlinewidth\":0,\"ticks\":\"\"}},\"type\":\"scatter3d\"}],\"scattercarpet\":[{\"marker\":{\"colorbar\":{\"outlinewidth\":0,\"ticks\":\"\"}},\"type\":\"scattercarpet\"}],\"scattergeo\":[{\"marker\":{\"colorbar\":{\"outlinewidth\":0,\"ticks\":\"\"}},\"type\":\"scattergeo\"}],\"scattergl\":[{\"marker\":{\"line\":{\"color\":\"#283442\"}},\"type\":\"scattergl\"}],\"scattermapbox\":[{\"marker\":{\"colorbar\":{\"outlinewidth\":0,\"ticks\":\"\"}},\"type\":\"scattermapbox\"}],\"scatterpolargl\":[{\"marker\":{\"colorbar\":{\"outlinewidth\":0,\"ticks\":\"\"}},\"type\":\"scatterpolargl\"}],\"scatterpolar\":[{\"marker\":{\"colorbar\":{\"outlinewidth\":0,\"ticks\":\"\"}},\"type\":\"scatterpolar\"}],\"scatter\":[{\"marker\":{\"line\":{\"color\":\"#283442\"}},\"type\":\"scatter\"}],\"scatterternary\":[{\"marker\":{\"colorbar\":{\"outlinewidth\":0,\"ticks\":\"\"}},\"type\":\"scatterternary\"}],\"surface\":[{\"colorbar\":{\"outlinewidth\":0,\"ticks\":\"\"},\"colorscale\":[[0.0,\"#0d0887\"],[0.1111111111111111,\"#46039f\"],[0.2222222222222222,\"#7201a8\"],[0.3333333333333333,\"#9c179e\"],[0.4444444444444444,\"#bd3786\"],[0.5555555555555556,\"#d8576b\"],[0.6666666666666666,\"#ed7953\"],[0.7777777777777778,\"#fb9f3a\"],[0.8888888888888888,\"#fdca26\"],[1.0,\"#f0f921\"]],\"type\":\"surface\"}],\"table\":[{\"cells\":{\"fill\":{\"color\":\"#506784\"},\"line\":{\"color\":\"rgb(17,17,17)\"}},\"header\":{\"fill\":{\"color\":\"#2a3f5f\"},\"line\":{\"color\":\"rgb(17,17,17)\"}},\"type\":\"table\"}]},\"layout\":{\"annotationdefaults\":{\"arrowcolor\":\"#f2f5fa\",\"arrowhead\":0,\"arrowwidth\":1},\"autotypenumbers\":\"strict\",\"coloraxis\":{\"colorbar\":{\"outlinewidth\":0,\"ticks\":\"\"}},\"colorscale\":{\"diverging\":[[0,\"#8e0152\"],[0.1,\"#c51b7d\"],[0.2,\"#de77ae\"],[0.3,\"#f1b6da\"],[0.4,\"#fde0ef\"],[0.5,\"#f7f7f7\"],[0.6,\"#e6f5d0\"],[0.7,\"#b8e186\"],[0.8,\"#7fbc41\"],[0.9,\"#4d9221\"],[1,\"#276419\"]],\"sequential\":[[0.0,\"#0d0887\"],[0.1111111111111111,\"#46039f\"],[0.2222222222222222,\"#7201a8\"],[0.3333333333333333,\"#9c179e\"],[0.4444444444444444,\"#bd3786\"],[0.5555555555555556,\"#d8576b\"],[0.6666666666666666,\"#ed7953\"],[0.7777777777777778,\"#fb9f3a\"],[0.8888888888888888,\"#fdca26\"],[1.0,\"#f0f921\"]],\"sequentialminus\":[[0.0,\"#0d0887\"],[0.1111111111111111,\"#46039f\"],[0.2222222222222222,\"#7201a8\"],[0.3333333333333333,\"#9c179e\"],[0.4444444444444444,\"#bd3786\"],[0.5555555555555556,\"#d8576b\"],[0.6666666666666666,\"#ed7953\"],[0.7777777777777778,\"#fb9f3a\"],[0.8888888888888888,\"#fdca26\"],[1.0,\"#f0f921\"]]},\"colorway\":[\"#636efa\",\"#EF553B\",\"#00cc96\",\"#ab63fa\",\"#FFA15A\",\"#19d3f3\",\"#FF6692\",\"#B6E880\",\"#FF97FF\",\"#FECB52\"],\"font\":{\"color\":\"#f2f5fa\"},\"geo\":{\"bgcolor\":\"rgb(17,17,17)\",\"lakecolor\":\"rgb(17,17,17)\",\"landcolor\":\"rgb(17,17,17)\",\"showlakes\":true,\"showland\":true,\"subunitcolor\":\"#506784\"},\"hoverlabel\":{\"align\":\"left\"},\"hovermode\":\"closest\",\"mapbox\":{\"style\":\"dark\"},\"paper_bgcolor\":\"rgb(17,17,17)\",\"plot_bgcolor\":\"rgb(17,17,17)\",\"polar\":{\"angularaxis\":{\"gridcolor\":\"#506784\",\"linecolor\":\"#506784\",\"ticks\":\"\"},\"bgcolor\":\"rgb(17,17,17)\",\"radialaxis\":{\"gridcolor\":\"#506784\",\"linecolor\":\"#506784\",\"ticks\":\"\"}},\"scene\":{\"xaxis\":{\"backgroundcolor\":\"rgb(17,17,17)\",\"gridcolor\":\"#506784\",\"gridwidth\":2,\"linecolor\":\"#506784\",\"showbackground\":true,\"ticks\":\"\",\"zerolinecolor\":\"#C8D4E3\"},\"yaxis\":{\"backgroundcolor\":\"rgb(17,17,17)\",\"gridcolor\":\"#506784\",\"gridwidth\":2,\"linecolor\":\"#506784\",\"showbackground\":true,\"ticks\":\"\",\"zerolinecolor\":\"#C8D4E3\"},\"zaxis\":{\"backgroundcolor\":\"rgb(17,17,17)\",\"gridcolor\":\"#506784\",\"gridwidth\":2,\"linecolor\":\"#506784\",\"showbackground\":true,\"ticks\":\"\",\"zerolinecolor\":\"#C8D4E3\"}},\"shapedefaults\":{\"line\":{\"color\":\"#f2f5fa\"}},\"sliderdefaults\":{\"bgcolor\":\"#C8D4E3\",\"bordercolor\":\"rgb(17,17,17)\",\"borderwidth\":1,\"tickwidth\":0},\"ternary\":{\"aaxis\":{\"gridcolor\":\"#506784\",\"linecolor\":\"#506784\",\"ticks\":\"\"},\"baxis\":{\"gridcolor\":\"#506784\",\"linecolor\":\"#506784\",\"ticks\":\"\"},\"bgcolor\":\"rgb(17,17,17)\",\"caxis\":{\"gridcolor\":\"#506784\",\"linecolor\":\"#506784\",\"ticks\":\"\"}},\"title\":{\"x\":0.05},\"updatemenudefaults\":{\"bgcolor\":\"#506784\",\"borderwidth\":0},\"xaxis\":{\"automargin\":true,\"gridcolor\":\"#283442\",\"linecolor\":\"#506784\",\"ticks\":\"\",\"title\":{\"standoff\":15},\"zerolinecolor\":\"#283442\",\"zerolinewidth\":2},\"yaxis\":{\"automargin\":true,\"gridcolor\":\"#283442\",\"linecolor\":\"#506784\",\"ticks\":\"\",\"title\":{\"standoff\":15},\"zerolinecolor\":\"#283442\",\"zerolinewidth\":2}}},\"xaxis\":{\"anchor\":\"y\",\"domain\":[0.0,1.0],\"title\":{\"text\":\"Total de Bolsas\"}},\"yaxis\":{\"anchor\":\"x\",\"domain\":[0.0,1.0],\"title\":{\"text\":\"Curso\"}},\"coloraxis\":{\"colorbar\":{\"title\":{\"text\":\"Total de Bolsas\"}},\"colorscale\":[[0.0,\"#440154\"],[0.1111111111111111,\"#482878\"],[0.2222222222222222,\"#3e4989\"],[0.3333333333333333,\"#31688e\"],[0.4444444444444444,\"#26828e\"],[0.5555555555555556,\"#1f9e89\"],[0.6666666666666666,\"#35b779\"],[0.7777777777777778,\"#6ece58\"],[0.8888888888888888,\"#b5de2b\"],[1.0,\"#fde725\"]]},\"legend\":{\"tracegroupgap\":0},\"title\":{\"text\":\"Top 10 Cursos por Total de Bolsas\"},\"barmode\":\"relative\"},                        {\"responsive\": true}                    ).then(function(){\n",
              "                            \n",
              "var gd = document.getElementById('9c2ad143-7cb6-480a-8bee-6758fe1fccd2');\n",
              "var x = new MutationObserver(function (mutations, observer) {{\n",
              "        var display = window.getComputedStyle(gd).display;\n",
              "        if (!display || display === 'none') {{\n",
              "            console.log([gd, 'removed!']);\n",
              "            Plotly.purge(gd);\n",
              "            observer.disconnect();\n",
              "        }}\n",
              "}});\n",
              "\n",
              "// Listen for the removal of the full notebook cells\n",
              "var notebookContainer = gd.closest('#notebook-container');\n",
              "if (notebookContainer) {{\n",
              "    x.observe(notebookContainer, {childList: true});\n",
              "}}\n",
              "\n",
              "// Listen for the clearing of the current output cell\n",
              "var outputEl = gd.closest('.output');\n",
              "if (outputEl) {{\n",
              "    x.observe(outputEl, {childList: true});\n",
              "}}\n",
              "\n",
              "                        })                };                            </script>        </div>\n",
              "</body>\n",
              "</html>"
            ]
          },
          "metadata": {}
        }
      ]
    },
    {
      "cell_type": "markdown",
      "source": [
        "**Relação entre Valor de Mensalidade e Total de Bolsas:**\n",
        "\n",
        "Observa-se que cursos com mensalidades mais altas (como Direito e Engenharia Civil) geralmente têm menos bolsas disponíveis.\n",
        "Isso pode ser explicado pela demanda e oferta: cursos mais caros podem atrair menos estudantes, resultando em menos bolsas disponíveis.\n",
        "No entanto, essa relação não é linear, pois cursos como Administração e Educação Física têm muitas bolsas, apesar de mensalidades mais baixas.\n",
        "Em resumo, há uma relação complexa entre o valor da mensalidade e o total de bolsas, o que pode ser influenciada por diversos fatores, como: área de estudo, a reputação do curso e a demanda dos estudantes."
      ],
      "metadata": {
        "id": "ykpLCX_fxhKM"
      }
    },
    {
      "cell_type": "markdown",
      "source": [
        "### ***Q3 - Quais são os cursos tecnológicos do estado da Paraíba que oferecem mais bolsas de estudo e quantas bolsas de cada tipo estes cursos oferecem?***"
      ],
      "metadata": {
        "id": "_xWuXLnmdKbv"
      }
    },
    {
      "cell_type": "code",
      "source": [
        "merged['bolsa_integral_cotas'] = pd.to_numeric(merged['bolsa_integral_cotas'], errors='coerce').fillna(0).astype(int)\n",
        "merged['bolsa_integral_ampla'] = pd.to_numeric(merged['bolsa_integral_ampla'], errors='coerce').fillna(0).astype(int)\n",
        "merged['bolsa_parcial_cotas'] = pd.to_numeric(merged['bolsa_parcial_cotas'], errors='coerce').fillna(0).astype(int)\n",
        "merged['bolsa_parcial_ampla'] = pd.to_numeric(merged['bolsa_parcial_ampla'], errors='coerce').fillna(0).astype(int)\n",
        "\n",
        "# Filtra o DataFrame para cursos tecnológicos no estado da Paraíba\n",
        "tech_courses_pb = merged[(merged['grau'] == 'Tecnológico') & (merged['uf_busca'] == 'PB')]\n",
        "\n",
        "# Agrupa por nome do curso e somar o número de cada tipo de bolsa\n",
        "grouped_tech_courses = tech_courses_pb.groupby('curso_busca').agg({\n",
        "    'bolsa_integral_cotas': 'sum',\n",
        "    'bolsa_integral_ampla': 'sum',\n",
        "    'bolsa_parcial_cotas': 'sum',\n",
        "    'bolsa_parcial_ampla': 'sum'\n",
        "}).reset_index()\n",
        "\n",
        "# Calcula o número total de bolsas para cada curso\n",
        "grouped_tech_courses['total_bolsas'] = (\n",
        "    grouped_tech_courses['bolsa_integral_cotas'] +\n",
        "    grouped_tech_courses['bolsa_integral_ampla'] +\n",
        "    grouped_tech_courses['bolsa_parcial_cotas'] +\n",
        "    grouped_tech_courses['bolsa_parcial_ampla']\n",
        ").astype(int)\n",
        "\n",
        "# Ordena os cursos pelo número total de bolsas em ordem decrescente\n",
        "sorted_tech_courses = grouped_tech_courses.sort_values(by='total_bolsas', ascending=False)\n",
        "\n",
        "sorted_tech_courses_styled = sorted_tech_courses.style.set_properties(**{'text-align': 'center', 'width': '300px'}).set_table_styles(\n",
        "    [dict(selector='th', props=[('text-align', 'center')]),\n",
        "     dict(selector='caption', props=[('font-size', '16px'), ('font-weight', 'bold')])]\n",
        ").set_caption(\"Cursos Tecnológicos na Paraíba por Total de Bolsas\")\n",
        "\n",
        "sorted_tech_courses_styled.set_table_attributes('style=\"width:100%;\"')\n",
        "sorted_tech_courses_styled"
      ],
      "metadata": {
        "colab": {
          "base_uri": "https://localhost:8080/",
          "height": 1360
        },
        "id": "xSRECFxz8AyP",
        "outputId": "c7f9902c-41ae-4b55-bb14-36f1c49764eb"
      },
      "execution_count": 450,
      "outputs": [
        {
          "output_type": "execute_result",
          "data": {
            "text/plain": [
              "<pandas.io.formats.style.Styler at 0x7e4ab0cdf010>"
            ],
            "text/html": [
              "<style type=\"text/css\">\n",
              "#T_a6cc0 th {\n",
              "  text-align: center;\n",
              "}\n",
              "#T_a6cc0 caption {\n",
              "  font-size: 16px;\n",
              "  font-weight: bold;\n",
              "}\n",
              "#T_a6cc0_row0_col0, #T_a6cc0_row0_col1, #T_a6cc0_row0_col2, #T_a6cc0_row0_col3, #T_a6cc0_row0_col4, #T_a6cc0_row0_col5, #T_a6cc0_row1_col0, #T_a6cc0_row1_col1, #T_a6cc0_row1_col2, #T_a6cc0_row1_col3, #T_a6cc0_row1_col4, #T_a6cc0_row1_col5, #T_a6cc0_row2_col0, #T_a6cc0_row2_col1, #T_a6cc0_row2_col2, #T_a6cc0_row2_col3, #T_a6cc0_row2_col4, #T_a6cc0_row2_col5, #T_a6cc0_row3_col0, #T_a6cc0_row3_col1, #T_a6cc0_row3_col2, #T_a6cc0_row3_col3, #T_a6cc0_row3_col4, #T_a6cc0_row3_col5, #T_a6cc0_row4_col0, #T_a6cc0_row4_col1, #T_a6cc0_row4_col2, #T_a6cc0_row4_col3, #T_a6cc0_row4_col4, #T_a6cc0_row4_col5, #T_a6cc0_row5_col0, #T_a6cc0_row5_col1, #T_a6cc0_row5_col2, #T_a6cc0_row5_col3, #T_a6cc0_row5_col4, #T_a6cc0_row5_col5, #T_a6cc0_row6_col0, #T_a6cc0_row6_col1, #T_a6cc0_row6_col2, #T_a6cc0_row6_col3, #T_a6cc0_row6_col4, #T_a6cc0_row6_col5, #T_a6cc0_row7_col0, #T_a6cc0_row7_col1, #T_a6cc0_row7_col2, #T_a6cc0_row7_col3, #T_a6cc0_row7_col4, #T_a6cc0_row7_col5, #T_a6cc0_row8_col0, #T_a6cc0_row8_col1, #T_a6cc0_row8_col2, #T_a6cc0_row8_col3, #T_a6cc0_row8_col4, #T_a6cc0_row8_col5, #T_a6cc0_row9_col0, #T_a6cc0_row9_col1, #T_a6cc0_row9_col2, #T_a6cc0_row9_col3, #T_a6cc0_row9_col4, #T_a6cc0_row9_col5, #T_a6cc0_row10_col0, #T_a6cc0_row10_col1, #T_a6cc0_row10_col2, #T_a6cc0_row10_col3, #T_a6cc0_row10_col4, #T_a6cc0_row10_col5, #T_a6cc0_row11_col0, #T_a6cc0_row11_col1, #T_a6cc0_row11_col2, #T_a6cc0_row11_col3, #T_a6cc0_row11_col4, #T_a6cc0_row11_col5, #T_a6cc0_row12_col0, #T_a6cc0_row12_col1, #T_a6cc0_row12_col2, #T_a6cc0_row12_col3, #T_a6cc0_row12_col4, #T_a6cc0_row12_col5, #T_a6cc0_row13_col0, #T_a6cc0_row13_col1, #T_a6cc0_row13_col2, #T_a6cc0_row13_col3, #T_a6cc0_row13_col4, #T_a6cc0_row13_col5, #T_a6cc0_row14_col0, #T_a6cc0_row14_col1, #T_a6cc0_row14_col2, #T_a6cc0_row14_col3, #T_a6cc0_row14_col4, #T_a6cc0_row14_col5, #T_a6cc0_row15_col0, #T_a6cc0_row15_col1, #T_a6cc0_row15_col2, #T_a6cc0_row15_col3, #T_a6cc0_row15_col4, #T_a6cc0_row15_col5, #T_a6cc0_row16_col0, #T_a6cc0_row16_col1, #T_a6cc0_row16_col2, #T_a6cc0_row16_col3, #T_a6cc0_row16_col4, #T_a6cc0_row16_col5, #T_a6cc0_row17_col0, #T_a6cc0_row17_col1, #T_a6cc0_row17_col2, #T_a6cc0_row17_col3, #T_a6cc0_row17_col4, #T_a6cc0_row17_col5, #T_a6cc0_row18_col0, #T_a6cc0_row18_col1, #T_a6cc0_row18_col2, #T_a6cc0_row18_col3, #T_a6cc0_row18_col4, #T_a6cc0_row18_col5, #T_a6cc0_row19_col0, #T_a6cc0_row19_col1, #T_a6cc0_row19_col2, #T_a6cc0_row19_col3, #T_a6cc0_row19_col4, #T_a6cc0_row19_col5, #T_a6cc0_row20_col0, #T_a6cc0_row20_col1, #T_a6cc0_row20_col2, #T_a6cc0_row20_col3, #T_a6cc0_row20_col4, #T_a6cc0_row20_col5, #T_a6cc0_row21_col0, #T_a6cc0_row21_col1, #T_a6cc0_row21_col2, #T_a6cc0_row21_col3, #T_a6cc0_row21_col4, #T_a6cc0_row21_col5, #T_a6cc0_row22_col0, #T_a6cc0_row22_col1, #T_a6cc0_row22_col2, #T_a6cc0_row22_col3, #T_a6cc0_row22_col4, #T_a6cc0_row22_col5, #T_a6cc0_row23_col0, #T_a6cc0_row23_col1, #T_a6cc0_row23_col2, #T_a6cc0_row23_col3, #T_a6cc0_row23_col4, #T_a6cc0_row23_col5, #T_a6cc0_row24_col0, #T_a6cc0_row24_col1, #T_a6cc0_row24_col2, #T_a6cc0_row24_col3, #T_a6cc0_row24_col4, #T_a6cc0_row24_col5, #T_a6cc0_row25_col0, #T_a6cc0_row25_col1, #T_a6cc0_row25_col2, #T_a6cc0_row25_col3, #T_a6cc0_row25_col4, #T_a6cc0_row25_col5, #T_a6cc0_row26_col0, #T_a6cc0_row26_col1, #T_a6cc0_row26_col2, #T_a6cc0_row26_col3, #T_a6cc0_row26_col4, #T_a6cc0_row26_col5, #T_a6cc0_row27_col0, #T_a6cc0_row27_col1, #T_a6cc0_row27_col2, #T_a6cc0_row27_col3, #T_a6cc0_row27_col4, #T_a6cc0_row27_col5, #T_a6cc0_row28_col0, #T_a6cc0_row28_col1, #T_a6cc0_row28_col2, #T_a6cc0_row28_col3, #T_a6cc0_row28_col4, #T_a6cc0_row28_col5, #T_a6cc0_row29_col0, #T_a6cc0_row29_col1, #T_a6cc0_row29_col2, #T_a6cc0_row29_col3, #T_a6cc0_row29_col4, #T_a6cc0_row29_col5, #T_a6cc0_row30_col0, #T_a6cc0_row30_col1, #T_a6cc0_row30_col2, #T_a6cc0_row30_col3, #T_a6cc0_row30_col4, #T_a6cc0_row30_col5, #T_a6cc0_row31_col0, #T_a6cc0_row31_col1, #T_a6cc0_row31_col2, #T_a6cc0_row31_col3, #T_a6cc0_row31_col4, #T_a6cc0_row31_col5, #T_a6cc0_row32_col0, #T_a6cc0_row32_col1, #T_a6cc0_row32_col2, #T_a6cc0_row32_col3, #T_a6cc0_row32_col4, #T_a6cc0_row32_col5, #T_a6cc0_row33_col0, #T_a6cc0_row33_col1, #T_a6cc0_row33_col2, #T_a6cc0_row33_col3, #T_a6cc0_row33_col4, #T_a6cc0_row33_col5 {\n",
              "  text-align: center;\n",
              "  width: 300px;\n",
              "}\n",
              "</style>\n",
              "<table id=\"T_a6cc0\" class=\"dataframe\">\n",
              "  <caption>Cursos Tecnológicos na Paraíba por Total de Bolsas</caption>\n",
              "  <thead>\n",
              "    <tr>\n",
              "      <th class=\"blank level0\" >&nbsp;</th>\n",
              "      <th id=\"T_a6cc0_level0_col0\" class=\"col_heading level0 col0\" >curso_busca</th>\n",
              "      <th id=\"T_a6cc0_level0_col1\" class=\"col_heading level0 col1\" >bolsa_integral_cotas</th>\n",
              "      <th id=\"T_a6cc0_level0_col2\" class=\"col_heading level0 col2\" >bolsa_integral_ampla</th>\n",
              "      <th id=\"T_a6cc0_level0_col3\" class=\"col_heading level0 col3\" >bolsa_parcial_cotas</th>\n",
              "      <th id=\"T_a6cc0_level0_col4\" class=\"col_heading level0 col4\" >bolsa_parcial_ampla</th>\n",
              "      <th id=\"T_a6cc0_level0_col5\" class=\"col_heading level0 col5\" >total_bolsas</th>\n",
              "    </tr>\n",
              "  </thead>\n",
              "  <tbody>\n",
              "    <tr>\n",
              "      <th id=\"T_a6cc0_level0_row0\" class=\"row_heading level0 row0\" >20</th>\n",
              "      <td id=\"T_a6cc0_row0_col0\" class=\"data row0 col0\" >Gestão de Recursos Humanos</td>\n",
              "      <td id=\"T_a6cc0_row0_col1\" class=\"data row0 col1\" >31</td>\n",
              "      <td id=\"T_a6cc0_row0_col2\" class=\"data row0 col2\" >20</td>\n",
              "      <td id=\"T_a6cc0_row0_col3\" class=\"data row0 col3\" >3</td>\n",
              "      <td id=\"T_a6cc0_row0_col4\" class=\"data row0 col4\" >70</td>\n",
              "      <td id=\"T_a6cc0_row0_col5\" class=\"data row0 col5\" >124</td>\n",
              "    </tr>\n",
              "    <tr>\n",
              "      <th id=\"T_a6cc0_level0_row1\" class=\"row_heading level0 row1\" >32</th>\n",
              "      <td id=\"T_a6cc0_row1_col0\" class=\"data row1 col0\" >Segurança no Trabalho</td>\n",
              "      <td id=\"T_a6cc0_row1_col1\" class=\"data row1 col1\" >11</td>\n",
              "      <td id=\"T_a6cc0_row1_col2\" class=\"data row1 col2\" >7</td>\n",
              "      <td id=\"T_a6cc0_row1_col3\" class=\"data row1 col3\" >1</td>\n",
              "      <td id=\"T_a6cc0_row1_col4\" class=\"data row1 col4\" >91</td>\n",
              "      <td id=\"T_a6cc0_row1_col5\" class=\"data row1 col5\" >110</td>\n",
              "    </tr>\n",
              "    <tr>\n",
              "      <th id=\"T_a6cc0_level0_row2\" class=\"row_heading level0 row2\" >30</th>\n",
              "      <td id=\"T_a6cc0_row2_col0\" class=\"data row2 col0\" >Redes de Computadores</td>\n",
              "      <td id=\"T_a6cc0_row2_col1\" class=\"data row2 col1\" >16</td>\n",
              "      <td id=\"T_a6cc0_row2_col2\" class=\"data row2 col2\" >10</td>\n",
              "      <td id=\"T_a6cc0_row2_col3\" class=\"data row2 col3\" >0</td>\n",
              "      <td id=\"T_a6cc0_row2_col4\" class=\"data row2 col4\" >80</td>\n",
              "      <td id=\"T_a6cc0_row2_col5\" class=\"data row2 col5\" >106</td>\n",
              "    </tr>\n",
              "    <tr>\n",
              "      <th id=\"T_a6cc0_level0_row3\" class=\"row_heading level0 row3\" >18</th>\n",
              "      <td id=\"T_a6cc0_row3_col0\" class=\"data row3 col0\" >Gestão da Tecnologia da Informação</td>\n",
              "      <td id=\"T_a6cc0_row3_col1\" class=\"data row3 col1\" >12</td>\n",
              "      <td id=\"T_a6cc0_row3_col2\" class=\"data row3 col2\" >6</td>\n",
              "      <td id=\"T_a6cc0_row3_col3\" class=\"data row3 col3\" >1</td>\n",
              "      <td id=\"T_a6cc0_row3_col4\" class=\"data row3 col4\" >80</td>\n",
              "      <td id=\"T_a6cc0_row3_col5\" class=\"data row3 col5\" >99</td>\n",
              "    </tr>\n",
              "    <tr>\n",
              "      <th id=\"T_a6cc0_level0_row4\" class=\"row_heading level0 row4\" >26</th>\n",
              "      <td id=\"T_a6cc0_row4_col0\" class=\"data row4 col0\" >Negócios Imobiliários</td>\n",
              "      <td id=\"T_a6cc0_row4_col1\" class=\"data row4 col1\" >6</td>\n",
              "      <td id=\"T_a6cc0_row4_col2\" class=\"data row4 col2\" >4</td>\n",
              "      <td id=\"T_a6cc0_row4_col3\" class=\"data row4 col3\" >0</td>\n",
              "      <td id=\"T_a6cc0_row4_col4\" class=\"data row4 col4\" >85</td>\n",
              "      <td id=\"T_a6cc0_row4_col5\" class=\"data row4 col5\" >95</td>\n",
              "    </tr>\n",
              "    <tr>\n",
              "      <th id=\"T_a6cc0_level0_row5\" class=\"row_heading level0 row5\" >24</th>\n",
              "      <td id=\"T_a6cc0_row5_col0\" class=\"data row5 col0\" >Logística</td>\n",
              "      <td id=\"T_a6cc0_row5_col1\" class=\"data row5 col1\" >9</td>\n",
              "      <td id=\"T_a6cc0_row5_col2\" class=\"data row5 col2\" >3</td>\n",
              "      <td id=\"T_a6cc0_row5_col3\" class=\"data row5 col3\" >1</td>\n",
              "      <td id=\"T_a6cc0_row5_col4\" class=\"data row5 col4\" >67</td>\n",
              "      <td id=\"T_a6cc0_row5_col5\" class=\"data row5 col5\" >80</td>\n",
              "    </tr>\n",
              "    <tr>\n",
              "      <th id=\"T_a6cc0_level0_row6\" class=\"row_heading level0 row6\" >29</th>\n",
              "      <td id=\"T_a6cc0_row6_col0\" class=\"data row6 col0\" >Radiologia</td>\n",
              "      <td id=\"T_a6cc0_row6_col1\" class=\"data row6 col1\" >12</td>\n",
              "      <td id=\"T_a6cc0_row6_col2\" class=\"data row6 col2\" >30</td>\n",
              "      <td id=\"T_a6cc0_row6_col3\" class=\"data row6 col3\" >1</td>\n",
              "      <td id=\"T_a6cc0_row6_col4\" class=\"data row6 col4\" >10</td>\n",
              "      <td id=\"T_a6cc0_row6_col5\" class=\"data row6 col5\" >53</td>\n",
              "    </tr>\n",
              "    <tr>\n",
              "      <th id=\"T_a6cc0_level0_row7\" class=\"row_heading level0 row7\" >5</th>\n",
              "      <td id=\"T_a6cc0_row7_col0\" class=\"data row7 col0\" >Design de Interiores</td>\n",
              "      <td id=\"T_a6cc0_row7_col1\" class=\"data row7 col1\" >13</td>\n",
              "      <td id=\"T_a6cc0_row7_col2\" class=\"data row7 col2\" >10</td>\n",
              "      <td id=\"T_a6cc0_row7_col3\" class=\"data row7 col3\" >0</td>\n",
              "      <td id=\"T_a6cc0_row7_col4\" class=\"data row7 col4\" >30</td>\n",
              "      <td id=\"T_a6cc0_row7_col5\" class=\"data row7 col5\" >53</td>\n",
              "    </tr>\n",
              "    <tr>\n",
              "      <th id=\"T_a6cc0_level0_row8\" class=\"row_heading level0 row8\" >25</th>\n",
              "      <td id=\"T_a6cc0_row8_col0\" class=\"data row8 col0\" >Marketing</td>\n",
              "      <td id=\"T_a6cc0_row8_col1\" class=\"data row8 col1\" >15</td>\n",
              "      <td id=\"T_a6cc0_row8_col2\" class=\"data row8 col2\" >8</td>\n",
              "      <td id=\"T_a6cc0_row8_col3\" class=\"data row8 col3\" >4</td>\n",
              "      <td id=\"T_a6cc0_row8_col4\" class=\"data row8 col4\" >0</td>\n",
              "      <td id=\"T_a6cc0_row8_col5\" class=\"data row8 col5\" >27</td>\n",
              "    </tr>\n",
              "    <tr>\n",
              "      <th id=\"T_a6cc0_level0_row9\" class=\"row_heading level0 row9\" >12</th>\n",
              "      <td id=\"T_a6cc0_row9_col0\" class=\"data row9 col0\" >Gestão Comercial</td>\n",
              "      <td id=\"T_a6cc0_row9_col1\" class=\"data row9 col1\" >14</td>\n",
              "      <td id=\"T_a6cc0_row9_col2\" class=\"data row9 col2\" >5</td>\n",
              "      <td id=\"T_a6cc0_row9_col3\" class=\"data row9 col3\" >5</td>\n",
              "      <td id=\"T_a6cc0_row9_col4\" class=\"data row9 col4\" >3</td>\n",
              "      <td id=\"T_a6cc0_row9_col5\" class=\"data row9 col5\" >27</td>\n",
              "    </tr>\n",
              "    <tr>\n",
              "      <th id=\"T_a6cc0_level0_row10\" class=\"row_heading level0 row10\" >10</th>\n",
              "      <td id=\"T_a6cc0_row10_col0\" class=\"data row10 col0\" >Gastronomia</td>\n",
              "      <td id=\"T_a6cc0_row10_col1\" class=\"data row10 col1\" >13</td>\n",
              "      <td id=\"T_a6cc0_row10_col2\" class=\"data row10 col2\" >10</td>\n",
              "      <td id=\"T_a6cc0_row10_col3\" class=\"data row10 col3\" >1</td>\n",
              "      <td id=\"T_a6cc0_row10_col4\" class=\"data row10 col4\" >0</td>\n",
              "      <td id=\"T_a6cc0_row10_col5\" class=\"data row10 col5\" >24</td>\n",
              "    </tr>\n",
              "    <tr>\n",
              "      <th id=\"T_a6cc0_level0_row11\" class=\"row_heading level0 row11\" >13</th>\n",
              "      <td id=\"T_a6cc0_row11_col0\" class=\"data row11 col0\" >Gestão Financeira</td>\n",
              "      <td id=\"T_a6cc0_row11_col1\" class=\"data row11 col1\" >14</td>\n",
              "      <td id=\"T_a6cc0_row11_col2\" class=\"data row11 col2\" >6</td>\n",
              "      <td id=\"T_a6cc0_row11_col3\" class=\"data row11 col3\" >2</td>\n",
              "      <td id=\"T_a6cc0_row11_col4\" class=\"data row11 col4\" >0</td>\n",
              "      <td id=\"T_a6cc0_row11_col5\" class=\"data row11 col5\" >22</td>\n",
              "    </tr>\n",
              "    <tr>\n",
              "      <th id=\"T_a6cc0_level0_row12\" class=\"row_heading level0 row12\" >0</th>\n",
              "      <td id=\"T_a6cc0_row12_col0\" class=\"data row12 col0\" >Análise e Desenvolvimento de Sistemas</td>\n",
              "      <td id=\"T_a6cc0_row12_col1\" class=\"data row12 col1\" >12</td>\n",
              "      <td id=\"T_a6cc0_row12_col2\" class=\"data row12 col2\" >5</td>\n",
              "      <td id=\"T_a6cc0_row12_col3\" class=\"data row12 col3\" >2</td>\n",
              "      <td id=\"T_a6cc0_row12_col4\" class=\"data row12 col4\" >0</td>\n",
              "      <td id=\"T_a6cc0_row12_col5\" class=\"data row12 col5\" >19</td>\n",
              "    </tr>\n",
              "    <tr>\n",
              "      <th id=\"T_a6cc0_level0_row13\" class=\"row_heading level0 row13\" >8</th>\n",
              "      <td id=\"T_a6cc0_row13_col0\" class=\"data row13 col0\" >Estética e Cosmética</td>\n",
              "      <td id=\"T_a6cc0_row13_col1\" class=\"data row13 col1\" >7</td>\n",
              "      <td id=\"T_a6cc0_row13_col2\" class=\"data row13 col2\" >6</td>\n",
              "      <td id=\"T_a6cc0_row13_col3\" class=\"data row13 col3\" >0</td>\n",
              "      <td id=\"T_a6cc0_row13_col4\" class=\"data row13 col4\" >6</td>\n",
              "      <td id=\"T_a6cc0_row13_col5\" class=\"data row13 col5\" >19</td>\n",
              "    </tr>\n",
              "    <tr>\n",
              "      <th id=\"T_a6cc0_level0_row14\" class=\"row_heading level0 row14\" >15</th>\n",
              "      <td id=\"T_a6cc0_row14_col0\" class=\"data row14 col0\" >Gestão Pública</td>\n",
              "      <td id=\"T_a6cc0_row14_col1\" class=\"data row14 col1\" >9</td>\n",
              "      <td id=\"T_a6cc0_row14_col2\" class=\"data row14 col2\" >3</td>\n",
              "      <td id=\"T_a6cc0_row14_col3\" class=\"data row14 col3\" >2</td>\n",
              "      <td id=\"T_a6cc0_row14_col4\" class=\"data row14 col4\" >0</td>\n",
              "      <td id=\"T_a6cc0_row14_col5\" class=\"data row14 col5\" >14</td>\n",
              "    </tr>\n",
              "    <tr>\n",
              "      <th id=\"T_a6cc0_level0_row15\" class=\"row_heading level0 row15\" >33</th>\n",
              "      <td id=\"T_a6cc0_row15_col0\" class=\"data row15 col0\" >Sistemas para Internet</td>\n",
              "      <td id=\"T_a6cc0_row15_col1\" class=\"data row15 col1\" >6</td>\n",
              "      <td id=\"T_a6cc0_row15_col2\" class=\"data row15 col2\" >3</td>\n",
              "      <td id=\"T_a6cc0_row15_col3\" class=\"data row15 col3\" >0</td>\n",
              "      <td id=\"T_a6cc0_row15_col4\" class=\"data row15 col4\" >0</td>\n",
              "      <td id=\"T_a6cc0_row15_col5\" class=\"data row15 col5\" >9</td>\n",
              "    </tr>\n",
              "    <tr>\n",
              "      <th id=\"T_a6cc0_level0_row16\" class=\"row_heading level0 row16\" >3</th>\n",
              "      <td id=\"T_a6cc0_row16_col0\" class=\"data row16 col0\" >Construção de Edifícios</td>\n",
              "      <td id=\"T_a6cc0_row16_col1\" class=\"data row16 col1\" >3</td>\n",
              "      <td id=\"T_a6cc0_row16_col2\" class=\"data row16 col2\" >1</td>\n",
              "      <td id=\"T_a6cc0_row16_col3\" class=\"data row16 col3\" >3</td>\n",
              "      <td id=\"T_a6cc0_row16_col4\" class=\"data row16 col4\" >2</td>\n",
              "      <td id=\"T_a6cc0_row16_col5\" class=\"data row16 col5\" >9</td>\n",
              "    </tr>\n",
              "    <tr>\n",
              "      <th id=\"T_a6cc0_level0_row17\" class=\"row_heading level0 row17\" >11</th>\n",
              "      <td id=\"T_a6cc0_row17_col0\" class=\"data row17 col0\" >Gestão Ambiental</td>\n",
              "      <td id=\"T_a6cc0_row17_col1\" class=\"data row17 col1\" >4</td>\n",
              "      <td id=\"T_a6cc0_row17_col2\" class=\"data row17 col2\" >1</td>\n",
              "      <td id=\"T_a6cc0_row17_col3\" class=\"data row17 col3\" >1</td>\n",
              "      <td id=\"T_a6cc0_row17_col4\" class=\"data row17 col4\" >0</td>\n",
              "      <td id=\"T_a6cc0_row17_col5\" class=\"data row17 col5\" >6</td>\n",
              "    </tr>\n",
              "    <tr>\n",
              "      <th id=\"T_a6cc0_level0_row18\" class=\"row_heading level0 row18\" >4</th>\n",
              "      <td id=\"T_a6cc0_row18_col0\" class=\"data row18 col0\" >Design Gráfico</td>\n",
              "      <td id=\"T_a6cc0_row18_col1\" class=\"data row18 col1\" >4</td>\n",
              "      <td id=\"T_a6cc0_row18_col2\" class=\"data row18 col2\" >2</td>\n",
              "      <td id=\"T_a6cc0_row18_col3\" class=\"data row18 col3\" >0</td>\n",
              "      <td id=\"T_a6cc0_row18_col4\" class=\"data row18 col4\" >0</td>\n",
              "      <td id=\"T_a6cc0_row18_col5\" class=\"data row18 col5\" >6</td>\n",
              "    </tr>\n",
              "    <tr>\n",
              "      <th id=\"T_a6cc0_level0_row19\" class=\"row_heading level0 row19\" >6</th>\n",
              "      <td id=\"T_a6cc0_row19_col0\" class=\"data row19 col0\" >Design de Moda</td>\n",
              "      <td id=\"T_a6cc0_row19_col1\" class=\"data row19 col1\" >4</td>\n",
              "      <td id=\"T_a6cc0_row19_col2\" class=\"data row19 col2\" >1</td>\n",
              "      <td id=\"T_a6cc0_row19_col3\" class=\"data row19 col3\" >0</td>\n",
              "      <td id=\"T_a6cc0_row19_col4\" class=\"data row19 col4\" >0</td>\n",
              "      <td id=\"T_a6cc0_row19_col5\" class=\"data row19 col5\" >5</td>\n",
              "    </tr>\n",
              "    <tr>\n",
              "      <th id=\"T_a6cc0_level0_row20\" class=\"row_heading level0 row20\" >28</th>\n",
              "      <td id=\"T_a6cc0_row20_col0\" class=\"data row20 col0\" >Produção Publicitária</td>\n",
              "      <td id=\"T_a6cc0_row20_col1\" class=\"data row20 col1\" >2</td>\n",
              "      <td id=\"T_a6cc0_row20_col2\" class=\"data row20 col2\" >2</td>\n",
              "      <td id=\"T_a6cc0_row20_col3\" class=\"data row20 col3\" >0</td>\n",
              "      <td id=\"T_a6cc0_row20_col4\" class=\"data row20 col4\" >0</td>\n",
              "      <td id=\"T_a6cc0_row20_col5\" class=\"data row20 col5\" >4</td>\n",
              "    </tr>\n",
              "    <tr>\n",
              "      <th id=\"T_a6cc0_level0_row21\" class=\"row_heading level0 row21\" >14</th>\n",
              "      <td id=\"T_a6cc0_row21_col0\" class=\"data row21 col0\" >Gestão Hospitalar</td>\n",
              "      <td id=\"T_a6cc0_row21_col1\" class=\"data row21 col1\" >2</td>\n",
              "      <td id=\"T_a6cc0_row21_col2\" class=\"data row21 col2\" >1</td>\n",
              "      <td id=\"T_a6cc0_row21_col3\" class=\"data row21 col3\" >1</td>\n",
              "      <td id=\"T_a6cc0_row21_col4\" class=\"data row21 col4\" >0</td>\n",
              "      <td id=\"T_a6cc0_row21_col5\" class=\"data row21 col5\" >4</td>\n",
              "    </tr>\n",
              "    <tr>\n",
              "      <th id=\"T_a6cc0_level0_row22\" class=\"row_heading level0 row22\" >31</th>\n",
              "      <td id=\"T_a6cc0_row22_col0\" class=\"data row22 col0\" >Secretariado</td>\n",
              "      <td id=\"T_a6cc0_row22_col1\" class=\"data row22 col1\" >1</td>\n",
              "      <td id=\"T_a6cc0_row22_col2\" class=\"data row22 col2\" >0</td>\n",
              "      <td id=\"T_a6cc0_row22_col3\" class=\"data row22 col3\" >3</td>\n",
              "      <td id=\"T_a6cc0_row22_col4\" class=\"data row22 col4\" >0</td>\n",
              "      <td id=\"T_a6cc0_row22_col5\" class=\"data row22 col5\" >4</td>\n",
              "    </tr>\n",
              "    <tr>\n",
              "      <th id=\"T_a6cc0_level0_row23\" class=\"row_heading level0 row23\" >27</th>\n",
              "      <td id=\"T_a6cc0_row23_col0\" class=\"data row23 col0\" >Processos Gerenciais</td>\n",
              "      <td id=\"T_a6cc0_row23_col1\" class=\"data row23 col1\" >1</td>\n",
              "      <td id=\"T_a6cc0_row23_col2\" class=\"data row23 col2\" >0</td>\n",
              "      <td id=\"T_a6cc0_row23_col3\" class=\"data row23 col3\" >2</td>\n",
              "      <td id=\"T_a6cc0_row23_col4\" class=\"data row23 col4\" >1</td>\n",
              "      <td id=\"T_a6cc0_row23_col5\" class=\"data row23 col5\" >4</td>\n",
              "    </tr>\n",
              "    <tr>\n",
              "      <th id=\"T_a6cc0_level0_row24\" class=\"row_heading level0 row24\" >16</th>\n",
              "      <td id=\"T_a6cc0_row24_col0\" class=\"data row24 col0\" >Gestão da Produção Industrial</td>\n",
              "      <td id=\"T_a6cc0_row24_col1\" class=\"data row24 col1\" >1</td>\n",
              "      <td id=\"T_a6cc0_row24_col2\" class=\"data row24 col2\" >0</td>\n",
              "      <td id=\"T_a6cc0_row24_col3\" class=\"data row24 col3\" >1</td>\n",
              "      <td id=\"T_a6cc0_row24_col4\" class=\"data row24 col4\" >1</td>\n",
              "      <td id=\"T_a6cc0_row24_col5\" class=\"data row24 col5\" >3</td>\n",
              "    </tr>\n",
              "    <tr>\n",
              "      <th id=\"T_a6cc0_level0_row25\" class=\"row_heading level0 row25\" >23</th>\n",
              "      <td id=\"T_a6cc0_row25_col0\" class=\"data row25 col0\" >Jogos Digitais</td>\n",
              "      <td id=\"T_a6cc0_row25_col1\" class=\"data row25 col1\" >2</td>\n",
              "      <td id=\"T_a6cc0_row25_col2\" class=\"data row25 col2\" >1</td>\n",
              "      <td id=\"T_a6cc0_row25_col3\" class=\"data row25 col3\" >0</td>\n",
              "      <td id=\"T_a6cc0_row25_col4\" class=\"data row25 col4\" >0</td>\n",
              "      <td id=\"T_a6cc0_row25_col5\" class=\"data row25 col5\" >3</td>\n",
              "    </tr>\n",
              "    <tr>\n",
              "      <th id=\"T_a6cc0_level0_row26\" class=\"row_heading level0 row26\" >9</th>\n",
              "      <td id=\"T_a6cc0_row26_col0\" class=\"data row26 col0\" >Eventos</td>\n",
              "      <td id=\"T_a6cc0_row26_col1\" class=\"data row26 col1\" >2</td>\n",
              "      <td id=\"T_a6cc0_row26_col2\" class=\"data row26 col2\" >1</td>\n",
              "      <td id=\"T_a6cc0_row26_col3\" class=\"data row26 col3\" >0</td>\n",
              "      <td id=\"T_a6cc0_row26_col4\" class=\"data row26 col4\" >0</td>\n",
              "      <td id=\"T_a6cc0_row26_col5\" class=\"data row26 col5\" >3</td>\n",
              "    </tr>\n",
              "    <tr>\n",
              "      <th id=\"T_a6cc0_level0_row27\" class=\"row_heading level0 row27\" >2</th>\n",
              "      <td id=\"T_a6cc0_row27_col0\" class=\"data row27 col0\" >Comércio Exterior</td>\n",
              "      <td id=\"T_a6cc0_row27_col1\" class=\"data row27 col1\" >0</td>\n",
              "      <td id=\"T_a6cc0_row27_col2\" class=\"data row27 col2\" >0</td>\n",
              "      <td id=\"T_a6cc0_row27_col3\" class=\"data row27 col3\" >2</td>\n",
              "      <td id=\"T_a6cc0_row27_col4\" class=\"data row27 col4\" >0</td>\n",
              "      <td id=\"T_a6cc0_row27_col5\" class=\"data row27 col5\" >2</td>\n",
              "    </tr>\n",
              "    <tr>\n",
              "      <th id=\"T_a6cc0_level0_row28\" class=\"row_heading level0 row28\" >7</th>\n",
              "      <td id=\"T_a6cc0_row28_col0\" class=\"data row28 col0\" >Embelezamento e Imagem Pessoal</td>\n",
              "      <td id=\"T_a6cc0_row28_col1\" class=\"data row28 col1\" >1</td>\n",
              "      <td id=\"T_a6cc0_row28_col2\" class=\"data row28 col2\" >1</td>\n",
              "      <td id=\"T_a6cc0_row28_col3\" class=\"data row28 col3\" >0</td>\n",
              "      <td id=\"T_a6cc0_row28_col4\" class=\"data row28 col4\" >0</td>\n",
              "      <td id=\"T_a6cc0_row28_col5\" class=\"data row28 col5\" >2</td>\n",
              "    </tr>\n",
              "    <tr>\n",
              "      <th id=\"T_a6cc0_level0_row29\" class=\"row_heading level0 row29\" >19</th>\n",
              "      <td id=\"T_a6cc0_row29_col0\" class=\"data row29 col0\" >Gestão de Empreendimentos Esportivos</td>\n",
              "      <td id=\"T_a6cc0_row29_col1\" class=\"data row29 col1\" >1</td>\n",
              "      <td id=\"T_a6cc0_row29_col2\" class=\"data row29 col2\" >1</td>\n",
              "      <td id=\"T_a6cc0_row29_col3\" class=\"data row29 col3\" >0</td>\n",
              "      <td id=\"T_a6cc0_row29_col4\" class=\"data row29 col4\" >0</td>\n",
              "      <td id=\"T_a6cc0_row29_col5\" class=\"data row29 col5\" >2</td>\n",
              "    </tr>\n",
              "    <tr>\n",
              "      <th id=\"T_a6cc0_level0_row30\" class=\"row_heading level0 row30\" >1</th>\n",
              "      <td id=\"T_a6cc0_row30_col0\" class=\"data row30 col0\" >Banco de Dados</td>\n",
              "      <td id=\"T_a6cc0_row30_col1\" class=\"data row30 col1\" >0</td>\n",
              "      <td id=\"T_a6cc0_row30_col2\" class=\"data row30 col2\" >0</td>\n",
              "      <td id=\"T_a6cc0_row30_col3\" class=\"data row30 col3\" >1</td>\n",
              "      <td id=\"T_a6cc0_row30_col4\" class=\"data row30 col4\" >0</td>\n",
              "      <td id=\"T_a6cc0_row30_col5\" class=\"data row30 col5\" >1</td>\n",
              "    </tr>\n",
              "    <tr>\n",
              "      <th id=\"T_a6cc0_level0_row31\" class=\"row_heading level0 row31\" >22</th>\n",
              "      <td id=\"T_a6cc0_row31_col0\" class=\"data row31 col0\" >Gestão do Agronegócio</td>\n",
              "      <td id=\"T_a6cc0_row31_col1\" class=\"data row31 col1\" >0</td>\n",
              "      <td id=\"T_a6cc0_row31_col2\" class=\"data row31 col2\" >0</td>\n",
              "      <td id=\"T_a6cc0_row31_col3\" class=\"data row31 col3\" >1</td>\n",
              "      <td id=\"T_a6cc0_row31_col4\" class=\"data row31 col4\" >0</td>\n",
              "      <td id=\"T_a6cc0_row31_col5\" class=\"data row31 col5\" >1</td>\n",
              "    </tr>\n",
              "    <tr>\n",
              "      <th id=\"T_a6cc0_level0_row32\" class=\"row_heading level0 row32\" >21</th>\n",
              "      <td id=\"T_a6cc0_row32_col0\" class=\"data row32 col0\" >Gestão de Serviços Jurídicos e Notariais</td>\n",
              "      <td id=\"T_a6cc0_row32_col1\" class=\"data row32 col1\" >1</td>\n",
              "      <td id=\"T_a6cc0_row32_col2\" class=\"data row32 col2\" >0</td>\n",
              "      <td id=\"T_a6cc0_row32_col3\" class=\"data row32 col3\" >0</td>\n",
              "      <td id=\"T_a6cc0_row32_col4\" class=\"data row32 col4\" >0</td>\n",
              "      <td id=\"T_a6cc0_row32_col5\" class=\"data row32 col5\" >1</td>\n",
              "    </tr>\n",
              "    <tr>\n",
              "      <th id=\"T_a6cc0_level0_row33\" class=\"row_heading level0 row33\" >17</th>\n",
              "      <td id=\"T_a6cc0_row33_col0\" class=\"data row33 col0\" >Gestão da Qualidade</td>\n",
              "      <td id=\"T_a6cc0_row33_col1\" class=\"data row33 col1\" >0</td>\n",
              "      <td id=\"T_a6cc0_row33_col2\" class=\"data row33 col2\" >0</td>\n",
              "      <td id=\"T_a6cc0_row33_col3\" class=\"data row33 col3\" >1</td>\n",
              "      <td id=\"T_a6cc0_row33_col4\" class=\"data row33 col4\" >0</td>\n",
              "      <td id=\"T_a6cc0_row33_col5\" class=\"data row33 col5\" >1</td>\n",
              "    </tr>\n",
              "  </tbody>\n",
              "</table>\n"
            ]
          },
          "metadata": {},
          "execution_count": 450
        }
      ]
    },
    {
      "cell_type": "code",
      "source": [
        "import plotly.graph_objects as go\n",
        "fig = go.Figure()\n",
        "\n",
        "fig.add_trace(go.Bar(\n",
        "    y=sorted_tech_courses['curso_busca'],\n",
        "    x=sorted_tech_courses['bolsa_integral_cotas'],\n",
        "    name='Bolsa Integral Cotas',\n",
        "    orientation='h',\n",
        "    marker=dict(color='rgba(58, 71, 80, 0.6)')\n",
        "))\n",
        "fig.add_trace(go.Bar(\n",
        "    y=sorted_tech_courses['curso_busca'],\n",
        "    x=sorted_tech_courses['bolsa_integral_ampla'],\n",
        "    name='Bolsa Integral Ampla',\n",
        "    orientation='h',\n",
        "    marker=dict(color='rgba(80, 180, 50, 0.6)')\n",
        "))\n",
        "fig.add_trace(go.Bar(\n",
        "    y=sorted_tech_courses['curso_busca'],\n",
        "    x=sorted_tech_courses['bolsa_parcial_cotas'],\n",
        "    name='Bolsa Parcial Cotas',\n",
        "    orientation='h',\n",
        "    marker=dict(color='rgba(133, 193, 233, 0.6)')\n",
        "))\n",
        "fig.add_trace(go.Bar(\n",
        "    y=sorted_tech_courses['curso_busca'],\n",
        "    x=sorted_tech_courses['bolsa_parcial_ampla'],\n",
        "    name='Bolsa Parcial Ampla',\n",
        "    orientation='h',\n",
        "    marker=dict(color='rgba(255, 144, 14, 0.6)')\n",
        "))\n",
        "\n",
        "fig.update_layout(\n",
        "    barmode='stack',\n",
        "    title='Distribuição de Bolsas por Curso Tecnológico na Paraíba',\n",
        "    xaxis_title='Número de Bolsas',\n",
        "    yaxis_title='Curso',\n",
        "    width=1000,\n",
        "    height=800,\n",
        "    plot_bgcolor='black',\n",
        "    paper_bgcolor='black',\n",
        "    font=dict(color='white')\n",
        ")\n",
        "fig.show()"
      ],
      "metadata": {
        "colab": {
          "base_uri": "https://localhost:8080/",
          "height": 817
        },
        "id": "6iybtzw9aKix",
        "outputId": "8083d4fd-23fe-483f-b64a-00f82044e550"
      },
      "execution_count": 451,
      "outputs": [
        {
          "output_type": "display_data",
          "data": {
            "text/html": [
              "<html>\n",
              "<head><meta charset=\"utf-8\" /></head>\n",
              "<body>\n",
              "    <div>            <script src=\"https://cdnjs.cloudflare.com/ajax/libs/mathjax/2.7.5/MathJax.js?config=TeX-AMS-MML_SVG\"></script><script type=\"text/javascript\">if (window.MathJax && window.MathJax.Hub && window.MathJax.Hub.Config) {window.MathJax.Hub.Config({SVG: {font: \"STIX-Web\"}});}</script>                <script type=\"text/javascript\">window.PlotlyConfig = {MathJaxConfig: 'local'};</script>\n",
              "        <script charset=\"utf-8\" src=\"https://cdn.plot.ly/plotly-2.24.1.min.js\"></script>                <div id=\"c3fa4381-ae0e-40ac-bd23-1759592d7043\" class=\"plotly-graph-div\" style=\"height:800px; width:1000px;\"></div>            <script type=\"text/javascript\">                                    window.PLOTLYENV=window.PLOTLYENV || {};                                    if (document.getElementById(\"c3fa4381-ae0e-40ac-bd23-1759592d7043\")) {                    Plotly.newPlot(                        \"c3fa4381-ae0e-40ac-bd23-1759592d7043\",                        [{\"marker\":{\"color\":\"rgba(58, 71, 80, 0.6)\"},\"name\":\"Bolsa Integral Cotas\",\"orientation\":\"h\",\"x\":[31,11,16,12,6,9,12,13,15,14,13,14,12,7,9,6,3,4,4,4,2,2,1,1,1,2,2,0,1,1,0,0,1,0],\"y\":[\"Gest\\u00e3o de Recursos Humanos\",\"Seguran\\u00e7a no Trabalho\",\"Redes de Computadores\",\"Gest\\u00e3o da Tecnologia da Informa\\u00e7\\u00e3o\",\"Neg\\u00f3cios Imobili\\u00e1rios\",\"Log\\u00edstica\",\"Radiologia\",\"Design de Interiores\",\"Marketing\",\"Gest\\u00e3o Comercial\",\"Gastronomia\",\"Gest\\u00e3o Financeira\",\"An\\u00e1lise e Desenvolvimento de Sistemas\",\"Est\\u00e9tica e Cosm\\u00e9tica\",\"Gest\\u00e3o P\\u00fablica\",\"Sistemas para Internet\",\"Constru\\u00e7\\u00e3o de Edif\\u00edcios\",\"Gest\\u00e3o Ambiental\",\"Design Gr\\u00e1fico\",\"Design de Moda\",\"Produ\\u00e7\\u00e3o Publicit\\u00e1ria\",\"Gest\\u00e3o Hospitalar\",\"Secretariado\",\"Processos Gerenciais\",\"Gest\\u00e3o da Produ\\u00e7\\u00e3o Industrial\",\"Jogos Digitais\",\"Eventos\",\"Com\\u00e9rcio Exterior\",\"Embelezamento e Imagem Pessoal\",\"Gest\\u00e3o de Empreendimentos Esportivos\",\"Banco de Dados\",\"Gest\\u00e3o do Agroneg\\u00f3cio\",\"Gest\\u00e3o de Servi\\u00e7os Jur\\u00eddicos e Notariais\",\"Gest\\u00e3o da Qualidade\"],\"type\":\"bar\"},{\"marker\":{\"color\":\"rgba(80, 180, 50, 0.6)\"},\"name\":\"Bolsa Integral Ampla\",\"orientation\":\"h\",\"x\":[20,7,10,6,4,3,30,10,8,5,10,6,5,6,3,3,1,1,2,1,2,1,0,0,0,1,1,0,1,1,0,0,0,0],\"y\":[\"Gest\\u00e3o de Recursos Humanos\",\"Seguran\\u00e7a no Trabalho\",\"Redes de Computadores\",\"Gest\\u00e3o da Tecnologia da Informa\\u00e7\\u00e3o\",\"Neg\\u00f3cios Imobili\\u00e1rios\",\"Log\\u00edstica\",\"Radiologia\",\"Design de Interiores\",\"Marketing\",\"Gest\\u00e3o Comercial\",\"Gastronomia\",\"Gest\\u00e3o Financeira\",\"An\\u00e1lise e Desenvolvimento de Sistemas\",\"Est\\u00e9tica e Cosm\\u00e9tica\",\"Gest\\u00e3o P\\u00fablica\",\"Sistemas para Internet\",\"Constru\\u00e7\\u00e3o de Edif\\u00edcios\",\"Gest\\u00e3o Ambiental\",\"Design Gr\\u00e1fico\",\"Design de Moda\",\"Produ\\u00e7\\u00e3o Publicit\\u00e1ria\",\"Gest\\u00e3o Hospitalar\",\"Secretariado\",\"Processos Gerenciais\",\"Gest\\u00e3o da Produ\\u00e7\\u00e3o Industrial\",\"Jogos Digitais\",\"Eventos\",\"Com\\u00e9rcio Exterior\",\"Embelezamento e Imagem Pessoal\",\"Gest\\u00e3o de Empreendimentos Esportivos\",\"Banco de Dados\",\"Gest\\u00e3o do Agroneg\\u00f3cio\",\"Gest\\u00e3o de Servi\\u00e7os Jur\\u00eddicos e Notariais\",\"Gest\\u00e3o da Qualidade\"],\"type\":\"bar\"},{\"marker\":{\"color\":\"rgba(133, 193, 233, 0.6)\"},\"name\":\"Bolsa Parcial Cotas\",\"orientation\":\"h\",\"x\":[3,1,0,1,0,1,1,0,4,5,1,2,2,0,2,0,3,1,0,0,0,1,3,2,1,0,0,2,0,0,1,1,0,1],\"y\":[\"Gest\\u00e3o de Recursos Humanos\",\"Seguran\\u00e7a no Trabalho\",\"Redes de Computadores\",\"Gest\\u00e3o da Tecnologia da Informa\\u00e7\\u00e3o\",\"Neg\\u00f3cios Imobili\\u00e1rios\",\"Log\\u00edstica\",\"Radiologia\",\"Design de Interiores\",\"Marketing\",\"Gest\\u00e3o Comercial\",\"Gastronomia\",\"Gest\\u00e3o Financeira\",\"An\\u00e1lise e Desenvolvimento de Sistemas\",\"Est\\u00e9tica e Cosm\\u00e9tica\",\"Gest\\u00e3o P\\u00fablica\",\"Sistemas para Internet\",\"Constru\\u00e7\\u00e3o de Edif\\u00edcios\",\"Gest\\u00e3o Ambiental\",\"Design Gr\\u00e1fico\",\"Design de Moda\",\"Produ\\u00e7\\u00e3o Publicit\\u00e1ria\",\"Gest\\u00e3o Hospitalar\",\"Secretariado\",\"Processos Gerenciais\",\"Gest\\u00e3o da Produ\\u00e7\\u00e3o Industrial\",\"Jogos Digitais\",\"Eventos\",\"Com\\u00e9rcio Exterior\",\"Embelezamento e Imagem Pessoal\",\"Gest\\u00e3o de Empreendimentos Esportivos\",\"Banco de Dados\",\"Gest\\u00e3o do Agroneg\\u00f3cio\",\"Gest\\u00e3o de Servi\\u00e7os Jur\\u00eddicos e Notariais\",\"Gest\\u00e3o da Qualidade\"],\"type\":\"bar\"},{\"marker\":{\"color\":\"rgba(255, 144, 14, 0.6)\"},\"name\":\"Bolsa Parcial Ampla\",\"orientation\":\"h\",\"x\":[70,91,80,80,85,67,10,30,0,3,0,0,0,6,0,0,2,0,0,0,0,0,0,1,1,0,0,0,0,0,0,0,0,0],\"y\":[\"Gest\\u00e3o de Recursos Humanos\",\"Seguran\\u00e7a no Trabalho\",\"Redes de Computadores\",\"Gest\\u00e3o da Tecnologia da Informa\\u00e7\\u00e3o\",\"Neg\\u00f3cios Imobili\\u00e1rios\",\"Log\\u00edstica\",\"Radiologia\",\"Design de Interiores\",\"Marketing\",\"Gest\\u00e3o Comercial\",\"Gastronomia\",\"Gest\\u00e3o Financeira\",\"An\\u00e1lise e Desenvolvimento de Sistemas\",\"Est\\u00e9tica e Cosm\\u00e9tica\",\"Gest\\u00e3o P\\u00fablica\",\"Sistemas para Internet\",\"Constru\\u00e7\\u00e3o de Edif\\u00edcios\",\"Gest\\u00e3o Ambiental\",\"Design Gr\\u00e1fico\",\"Design de Moda\",\"Produ\\u00e7\\u00e3o Publicit\\u00e1ria\",\"Gest\\u00e3o Hospitalar\",\"Secretariado\",\"Processos Gerenciais\",\"Gest\\u00e3o da Produ\\u00e7\\u00e3o Industrial\",\"Jogos Digitais\",\"Eventos\",\"Com\\u00e9rcio Exterior\",\"Embelezamento e Imagem Pessoal\",\"Gest\\u00e3o de Empreendimentos Esportivos\",\"Banco de Dados\",\"Gest\\u00e3o do Agroneg\\u00f3cio\",\"Gest\\u00e3o de Servi\\u00e7os Jur\\u00eddicos e Notariais\",\"Gest\\u00e3o da Qualidade\"],\"type\":\"bar\"}],                        {\"template\":{\"data\":{\"histogram2dcontour\":[{\"type\":\"histogram2dcontour\",\"colorbar\":{\"outlinewidth\":0,\"ticks\":\"\"},\"colorscale\":[[0.0,\"#0d0887\"],[0.1111111111111111,\"#46039f\"],[0.2222222222222222,\"#7201a8\"],[0.3333333333333333,\"#9c179e\"],[0.4444444444444444,\"#bd3786\"],[0.5555555555555556,\"#d8576b\"],[0.6666666666666666,\"#ed7953\"],[0.7777777777777778,\"#fb9f3a\"],[0.8888888888888888,\"#fdca26\"],[1.0,\"#f0f921\"]]}],\"choropleth\":[{\"type\":\"choropleth\",\"colorbar\":{\"outlinewidth\":0,\"ticks\":\"\"}}],\"histogram2d\":[{\"type\":\"histogram2d\",\"colorbar\":{\"outlinewidth\":0,\"ticks\":\"\"},\"colorscale\":[[0.0,\"#0d0887\"],[0.1111111111111111,\"#46039f\"],[0.2222222222222222,\"#7201a8\"],[0.3333333333333333,\"#9c179e\"],[0.4444444444444444,\"#bd3786\"],[0.5555555555555556,\"#d8576b\"],[0.6666666666666666,\"#ed7953\"],[0.7777777777777778,\"#fb9f3a\"],[0.8888888888888888,\"#fdca26\"],[1.0,\"#f0f921\"]]}],\"heatmap\":[{\"type\":\"heatmap\",\"colorbar\":{\"outlinewidth\":0,\"ticks\":\"\"},\"colorscale\":[[0.0,\"#0d0887\"],[0.1111111111111111,\"#46039f\"],[0.2222222222222222,\"#7201a8\"],[0.3333333333333333,\"#9c179e\"],[0.4444444444444444,\"#bd3786\"],[0.5555555555555556,\"#d8576b\"],[0.6666666666666666,\"#ed7953\"],[0.7777777777777778,\"#fb9f3a\"],[0.8888888888888888,\"#fdca26\"],[1.0,\"#f0f921\"]]}],\"heatmapgl\":[{\"type\":\"heatmapgl\",\"colorbar\":{\"outlinewidth\":0,\"ticks\":\"\"},\"colorscale\":[[0.0,\"#0d0887\"],[0.1111111111111111,\"#46039f\"],[0.2222222222222222,\"#7201a8\"],[0.3333333333333333,\"#9c179e\"],[0.4444444444444444,\"#bd3786\"],[0.5555555555555556,\"#d8576b\"],[0.6666666666666666,\"#ed7953\"],[0.7777777777777778,\"#fb9f3a\"],[0.8888888888888888,\"#fdca26\"],[1.0,\"#f0f921\"]]}],\"contourcarpet\":[{\"type\":\"contourcarpet\",\"colorbar\":{\"outlinewidth\":0,\"ticks\":\"\"}}],\"contour\":[{\"type\":\"contour\",\"colorbar\":{\"outlinewidth\":0,\"ticks\":\"\"},\"colorscale\":[[0.0,\"#0d0887\"],[0.1111111111111111,\"#46039f\"],[0.2222222222222222,\"#7201a8\"],[0.3333333333333333,\"#9c179e\"],[0.4444444444444444,\"#bd3786\"],[0.5555555555555556,\"#d8576b\"],[0.6666666666666666,\"#ed7953\"],[0.7777777777777778,\"#fb9f3a\"],[0.8888888888888888,\"#fdca26\"],[1.0,\"#f0f921\"]]}],\"surface\":[{\"type\":\"surface\",\"colorbar\":{\"outlinewidth\":0,\"ticks\":\"\"},\"colorscale\":[[0.0,\"#0d0887\"],[0.1111111111111111,\"#46039f\"],[0.2222222222222222,\"#7201a8\"],[0.3333333333333333,\"#9c179e\"],[0.4444444444444444,\"#bd3786\"],[0.5555555555555556,\"#d8576b\"],[0.6666666666666666,\"#ed7953\"],[0.7777777777777778,\"#fb9f3a\"],[0.8888888888888888,\"#fdca26\"],[1.0,\"#f0f921\"]]}],\"mesh3d\":[{\"type\":\"mesh3d\",\"colorbar\":{\"outlinewidth\":0,\"ticks\":\"\"}}],\"scatter\":[{\"fillpattern\":{\"fillmode\":\"overlay\",\"size\":10,\"solidity\":0.2},\"type\":\"scatter\"}],\"parcoords\":[{\"type\":\"parcoords\",\"line\":{\"colorbar\":{\"outlinewidth\":0,\"ticks\":\"\"}}}],\"scatterpolargl\":[{\"type\":\"scatterpolargl\",\"marker\":{\"colorbar\":{\"outlinewidth\":0,\"ticks\":\"\"}}}],\"bar\":[{\"error_x\":{\"color\":\"#2a3f5f\"},\"error_y\":{\"color\":\"#2a3f5f\"},\"marker\":{\"line\":{\"color\":\"#E5ECF6\",\"width\":0.5},\"pattern\":{\"fillmode\":\"overlay\",\"size\":10,\"solidity\":0.2}},\"type\":\"bar\"}],\"scattergeo\":[{\"type\":\"scattergeo\",\"marker\":{\"colorbar\":{\"outlinewidth\":0,\"ticks\":\"\"}}}],\"scatterpolar\":[{\"type\":\"scatterpolar\",\"marker\":{\"colorbar\":{\"outlinewidth\":0,\"ticks\":\"\"}}}],\"histogram\":[{\"marker\":{\"pattern\":{\"fillmode\":\"overlay\",\"size\":10,\"solidity\":0.2}},\"type\":\"histogram\"}],\"scattergl\":[{\"type\":\"scattergl\",\"marker\":{\"colorbar\":{\"outlinewidth\":0,\"ticks\":\"\"}}}],\"scatter3d\":[{\"type\":\"scatter3d\",\"line\":{\"colorbar\":{\"outlinewidth\":0,\"ticks\":\"\"}},\"marker\":{\"colorbar\":{\"outlinewidth\":0,\"ticks\":\"\"}}}],\"scattermapbox\":[{\"type\":\"scattermapbox\",\"marker\":{\"colorbar\":{\"outlinewidth\":0,\"ticks\":\"\"}}}],\"scatterternary\":[{\"type\":\"scatterternary\",\"marker\":{\"colorbar\":{\"outlinewidth\":0,\"ticks\":\"\"}}}],\"scattercarpet\":[{\"type\":\"scattercarpet\",\"marker\":{\"colorbar\":{\"outlinewidth\":0,\"ticks\":\"\"}}}],\"carpet\":[{\"aaxis\":{\"endlinecolor\":\"#2a3f5f\",\"gridcolor\":\"white\",\"linecolor\":\"white\",\"minorgridcolor\":\"white\",\"startlinecolor\":\"#2a3f5f\"},\"baxis\":{\"endlinecolor\":\"#2a3f5f\",\"gridcolor\":\"white\",\"linecolor\":\"white\",\"minorgridcolor\":\"white\",\"startlinecolor\":\"#2a3f5f\"},\"type\":\"carpet\"}],\"table\":[{\"cells\":{\"fill\":{\"color\":\"#EBF0F8\"},\"line\":{\"color\":\"white\"}},\"header\":{\"fill\":{\"color\":\"#C8D4E3\"},\"line\":{\"color\":\"white\"}},\"type\":\"table\"}],\"barpolar\":[{\"marker\":{\"line\":{\"color\":\"#E5ECF6\",\"width\":0.5},\"pattern\":{\"fillmode\":\"overlay\",\"size\":10,\"solidity\":0.2}},\"type\":\"barpolar\"}],\"pie\":[{\"automargin\":true,\"type\":\"pie\"}]},\"layout\":{\"autotypenumbers\":\"strict\",\"colorway\":[\"#636efa\",\"#EF553B\",\"#00cc96\",\"#ab63fa\",\"#FFA15A\",\"#19d3f3\",\"#FF6692\",\"#B6E880\",\"#FF97FF\",\"#FECB52\"],\"font\":{\"color\":\"#2a3f5f\"},\"hovermode\":\"closest\",\"hoverlabel\":{\"align\":\"left\"},\"paper_bgcolor\":\"white\",\"plot_bgcolor\":\"#E5ECF6\",\"polar\":{\"bgcolor\":\"#E5ECF6\",\"angularaxis\":{\"gridcolor\":\"white\",\"linecolor\":\"white\",\"ticks\":\"\"},\"radialaxis\":{\"gridcolor\":\"white\",\"linecolor\":\"white\",\"ticks\":\"\"}},\"ternary\":{\"bgcolor\":\"#E5ECF6\",\"aaxis\":{\"gridcolor\":\"white\",\"linecolor\":\"white\",\"ticks\":\"\"},\"baxis\":{\"gridcolor\":\"white\",\"linecolor\":\"white\",\"ticks\":\"\"},\"caxis\":{\"gridcolor\":\"white\",\"linecolor\":\"white\",\"ticks\":\"\"}},\"coloraxis\":{\"colorbar\":{\"outlinewidth\":0,\"ticks\":\"\"}},\"colorscale\":{\"sequential\":[[0.0,\"#0d0887\"],[0.1111111111111111,\"#46039f\"],[0.2222222222222222,\"#7201a8\"],[0.3333333333333333,\"#9c179e\"],[0.4444444444444444,\"#bd3786\"],[0.5555555555555556,\"#d8576b\"],[0.6666666666666666,\"#ed7953\"],[0.7777777777777778,\"#fb9f3a\"],[0.8888888888888888,\"#fdca26\"],[1.0,\"#f0f921\"]],\"sequentialminus\":[[0.0,\"#0d0887\"],[0.1111111111111111,\"#46039f\"],[0.2222222222222222,\"#7201a8\"],[0.3333333333333333,\"#9c179e\"],[0.4444444444444444,\"#bd3786\"],[0.5555555555555556,\"#d8576b\"],[0.6666666666666666,\"#ed7953\"],[0.7777777777777778,\"#fb9f3a\"],[0.8888888888888888,\"#fdca26\"],[1.0,\"#f0f921\"]],\"diverging\":[[0,\"#8e0152\"],[0.1,\"#c51b7d\"],[0.2,\"#de77ae\"],[0.3,\"#f1b6da\"],[0.4,\"#fde0ef\"],[0.5,\"#f7f7f7\"],[0.6,\"#e6f5d0\"],[0.7,\"#b8e186\"],[0.8,\"#7fbc41\"],[0.9,\"#4d9221\"],[1,\"#276419\"]]},\"xaxis\":{\"gridcolor\":\"white\",\"linecolor\":\"white\",\"ticks\":\"\",\"title\":{\"standoff\":15},\"zerolinecolor\":\"white\",\"automargin\":true,\"zerolinewidth\":2},\"yaxis\":{\"gridcolor\":\"white\",\"linecolor\":\"white\",\"ticks\":\"\",\"title\":{\"standoff\":15},\"zerolinecolor\":\"white\",\"automargin\":true,\"zerolinewidth\":2},\"scene\":{\"xaxis\":{\"backgroundcolor\":\"#E5ECF6\",\"gridcolor\":\"white\",\"linecolor\":\"white\",\"showbackground\":true,\"ticks\":\"\",\"zerolinecolor\":\"white\",\"gridwidth\":2},\"yaxis\":{\"backgroundcolor\":\"#E5ECF6\",\"gridcolor\":\"white\",\"linecolor\":\"white\",\"showbackground\":true,\"ticks\":\"\",\"zerolinecolor\":\"white\",\"gridwidth\":2},\"zaxis\":{\"backgroundcolor\":\"#E5ECF6\",\"gridcolor\":\"white\",\"linecolor\":\"white\",\"showbackground\":true,\"ticks\":\"\",\"zerolinecolor\":\"white\",\"gridwidth\":2}},\"shapedefaults\":{\"line\":{\"color\":\"#2a3f5f\"}},\"annotationdefaults\":{\"arrowcolor\":\"#2a3f5f\",\"arrowhead\":0,\"arrowwidth\":1},\"geo\":{\"bgcolor\":\"white\",\"landcolor\":\"#E5ECF6\",\"subunitcolor\":\"white\",\"showland\":true,\"showlakes\":true,\"lakecolor\":\"white\"},\"title\":{\"x\":0.05},\"mapbox\":{\"style\":\"light\"}}},\"font\":{\"color\":\"white\"},\"barmode\":\"stack\",\"title\":{\"text\":\"Distribui\\u00e7\\u00e3o de Bolsas por Curso Tecnol\\u00f3gico na Para\\u00edba\"},\"xaxis\":{\"title\":{\"text\":\"N\\u00famero de Bolsas\"}},\"yaxis\":{\"title\":{\"text\":\"Curso\"}},\"width\":1000,\"height\":800,\"plot_bgcolor\":\"black\",\"paper_bgcolor\":\"black\"},                        {\"responsive\": true}                    ).then(function(){\n",
              "                            \n",
              "var gd = document.getElementById('c3fa4381-ae0e-40ac-bd23-1759592d7043');\n",
              "var x = new MutationObserver(function (mutations, observer) {{\n",
              "        var display = window.getComputedStyle(gd).display;\n",
              "        if (!display || display === 'none') {{\n",
              "            console.log([gd, 'removed!']);\n",
              "            Plotly.purge(gd);\n",
              "            observer.disconnect();\n",
              "        }}\n",
              "}});\n",
              "\n",
              "// Listen for the removal of the full notebook cells\n",
              "var notebookContainer = gd.closest('#notebook-container');\n",
              "if (notebookContainer) {{\n",
              "    x.observe(notebookContainer, {childList: true});\n",
              "}}\n",
              "\n",
              "// Listen for the clearing of the current output cell\n",
              "var outputEl = gd.closest('.output');\n",
              "if (outputEl) {{\n",
              "    x.observe(outputEl, {childList: true});\n",
              "}}\n",
              "\n",
              "                        })                };                            </script>        </div>\n",
              "</body>\n",
              "</html>"
            ]
          },
          "metadata": {}
        }
      ]
    },
    {
      "cell_type": "markdown",
      "source": [
        "### ***Q4 - Considerando os cursos de Ciência da Computação, Engenharia da Computação e Sistemas de Informação, qual o percentual de bolsas ofertadas para cada modalidade (a distância, integral, noturno, etc.) por cada um dos cursos? Existe uma modalidade que é predominante?***"
      ],
      "metadata": {
        "id": "asw7-EXGhcCQ"
      }
    },
    {
      "cell_type": "code",
      "source": [
        "merged['curso_busca'] = merged['curso_busca'].replace('Ciências da Computação', 'Ciência da Computação')\n",
        "\n",
        "# Filtra o DataFrame para os cursos de interesse\n",
        "selected_courses = merged[merged['curso_busca'].isin(['Ciência da Computação', 'Engenharia da Computação', 'Sistemas de Informação'])]\n",
        "\n",
        "# Agrupa por nome do curso e modalidade, e somar o número de bolsas para cada grupo\n",
        "grouped_courses = selected_courses.groupby(['curso_busca', 'turno']).agg({\n",
        "    'bolsa_integral_cotas': 'sum',\n",
        "    'bolsa_integral_ampla': 'sum',\n",
        "    'bolsa_parcial_cotas': 'sum',\n",
        "    'bolsa_parcial_ampla': 'sum'\n",
        "}).reset_index()\n",
        "\n",
        "# Renomea as colunas para exibir apenas as siglas desejadas\n",
        "grouped_courses = grouped_courses.rename(columns={\n",
        "    'bolsa_integral_cotas': 'b_integral_cotas',\n",
        "    'bolsa_integral_ampla': 'b_integral_ampla',\n",
        "    'bolsa_parcial_cotas': 'b_parcial_cotas',\n",
        "    'bolsa_parcial_ampla': 'b_parcial_ampla'\n",
        "})\n",
        "\n",
        "# Calcula o número total de bolsas para cada grupo\n",
        "grouped_courses['total_bolsas'] = (\n",
        "    grouped_courses['b_integral_cotas'] +\n",
        "    grouped_courses['b_integral_ampla'] +\n",
        "    grouped_courses['b_parcial_cotas'] +\n",
        "    grouped_courses['b_parcial_ampla']\n",
        ")\n",
        "\n",
        "# Calcula o total de bolsas para cada curso\n",
        "total_bolsas_per_course = grouped_courses.groupby('curso_busca')['total_bolsas'].sum().reset_index()\n",
        "\n",
        "# Calcula o percentual de bolsas para cada modalidade por curso\n",
        "grouped_courses = grouped_courses.merge(total_bolsas_per_course, on='curso_busca', suffixes=('', '_total'))\n",
        "grouped_courses['percentual_bolsas'] = (grouped_courses['total_bolsas'] / grouped_courses['total_bolsas_total']) * 100\n",
        "\n",
        "# Formata o percentual de bolsas para duas casas decimais\n",
        "grouped_courses['percentual_bolsas'] = grouped_courses['percentual_bolsas'].apply(lambda x: f\"{x:.2f}\")\n",
        "\n",
        "# Remove a coluna 'total_bolsas_total'\n",
        "grouped_courses = grouped_courses.drop(columns=['total_bolsas_total'])\n",
        "\n",
        "# Ordena os cursos pelo maior percentual de bolsas dentro de cada curso\n",
        "grouped_courses_sorted = pd.concat([\n",
        "    grouped_courses[grouped_courses['curso_busca'] == 'Ciência da Computação'].sort_values(by='percentual_bolsas', ascending=False),\n",
        "    grouped_courses[grouped_courses['curso_busca'] == 'Engenharia da Computação'].sort_values(by='percentual_bolsas', ascending=False),\n",
        "    grouped_courses[grouped_courses['curso_busca'] == 'Sistemas de Informação'].sort_values(by='percentual_bolsas', ascending=False)\n",
        "])\n",
        "\n",
        "grouped_courses_styled = grouped_courses_sorted.style.set_properties(**{'text-align': 'center', 'width': '300px'}).set_table_styles(\n",
        "    [dict(selector='th', props=[('text-align', 'center')]),\n",
        "     dict(selector='caption', props=[('font-size', '16px'), ('font-weight', 'bold')])]\n",
        ").set_caption(\"Percentual de Bolsas Ofertadas por Modalidade e Curso\")\n",
        "grouped_courses_styled.set_table_attributes('style=\"width:100%;\"')\n",
        "grouped_courses_styled"
      ],
      "metadata": {
        "colab": {
          "base_uri": "https://localhost:8080/",
          "height": 605
        },
        "id": "VgEx93DEc_Ms",
        "outputId": "f102f184-03ae-461d-8f28-a56c8583eac3"
      },
      "execution_count": 452,
      "outputs": [
        {
          "output_type": "execute_result",
          "data": {
            "text/plain": [
              "<pandas.io.formats.style.Styler at 0x7e4ab0c21240>"
            ],
            "text/html": [
              "<style type=\"text/css\">\n",
              "#T_40e51 th {\n",
              "  text-align: center;\n",
              "}\n",
              "#T_40e51 caption {\n",
              "  font-size: 16px;\n",
              "  font-weight: bold;\n",
              "}\n",
              "#T_40e51_row0_col0, #T_40e51_row0_col1, #T_40e51_row0_col2, #T_40e51_row0_col3, #T_40e51_row0_col4, #T_40e51_row0_col5, #T_40e51_row0_col6, #T_40e51_row0_col7, #T_40e51_row1_col0, #T_40e51_row1_col1, #T_40e51_row1_col2, #T_40e51_row1_col3, #T_40e51_row1_col4, #T_40e51_row1_col5, #T_40e51_row1_col6, #T_40e51_row1_col7, #T_40e51_row2_col0, #T_40e51_row2_col1, #T_40e51_row2_col2, #T_40e51_row2_col3, #T_40e51_row2_col4, #T_40e51_row2_col5, #T_40e51_row2_col6, #T_40e51_row2_col7, #T_40e51_row3_col0, #T_40e51_row3_col1, #T_40e51_row3_col2, #T_40e51_row3_col3, #T_40e51_row3_col4, #T_40e51_row3_col5, #T_40e51_row3_col6, #T_40e51_row3_col7, #T_40e51_row4_col0, #T_40e51_row4_col1, #T_40e51_row4_col2, #T_40e51_row4_col3, #T_40e51_row4_col4, #T_40e51_row4_col5, #T_40e51_row4_col6, #T_40e51_row4_col7, #T_40e51_row5_col0, #T_40e51_row5_col1, #T_40e51_row5_col2, #T_40e51_row5_col3, #T_40e51_row5_col4, #T_40e51_row5_col5, #T_40e51_row5_col6, #T_40e51_row5_col7, #T_40e51_row6_col0, #T_40e51_row6_col1, #T_40e51_row6_col2, #T_40e51_row6_col3, #T_40e51_row6_col4, #T_40e51_row6_col5, #T_40e51_row6_col6, #T_40e51_row6_col7, #T_40e51_row7_col0, #T_40e51_row7_col1, #T_40e51_row7_col2, #T_40e51_row7_col3, #T_40e51_row7_col4, #T_40e51_row7_col5, #T_40e51_row7_col6, #T_40e51_row7_col7, #T_40e51_row8_col0, #T_40e51_row8_col1, #T_40e51_row8_col2, #T_40e51_row8_col3, #T_40e51_row8_col4, #T_40e51_row8_col5, #T_40e51_row8_col6, #T_40e51_row8_col7, #T_40e51_row9_col0, #T_40e51_row9_col1, #T_40e51_row9_col2, #T_40e51_row9_col3, #T_40e51_row9_col4, #T_40e51_row9_col5, #T_40e51_row9_col6, #T_40e51_row9_col7, #T_40e51_row10_col0, #T_40e51_row10_col1, #T_40e51_row10_col2, #T_40e51_row10_col3, #T_40e51_row10_col4, #T_40e51_row10_col5, #T_40e51_row10_col6, #T_40e51_row10_col7 {\n",
              "  text-align: center;\n",
              "  width: 300px;\n",
              "}\n",
              "</style>\n",
              "<table id=\"T_40e51\" class=\"dataframe\">\n",
              "  <caption>Percentual de Bolsas Ofertadas por Modalidade e Curso</caption>\n",
              "  <thead>\n",
              "    <tr>\n",
              "      <th class=\"blank level0\" >&nbsp;</th>\n",
              "      <th id=\"T_40e51_level0_col0\" class=\"col_heading level0 col0\" >curso_busca</th>\n",
              "      <th id=\"T_40e51_level0_col1\" class=\"col_heading level0 col1\" >turno</th>\n",
              "      <th id=\"T_40e51_level0_col2\" class=\"col_heading level0 col2\" >b_integral_cotas</th>\n",
              "      <th id=\"T_40e51_level0_col3\" class=\"col_heading level0 col3\" >b_integral_ampla</th>\n",
              "      <th id=\"T_40e51_level0_col4\" class=\"col_heading level0 col4\" >b_parcial_cotas</th>\n",
              "      <th id=\"T_40e51_level0_col5\" class=\"col_heading level0 col5\" >b_parcial_ampla</th>\n",
              "      <th id=\"T_40e51_level0_col6\" class=\"col_heading level0 col6\" >total_bolsas</th>\n",
              "      <th id=\"T_40e51_level0_col7\" class=\"col_heading level0 col7\" >percentual_bolsas</th>\n",
              "    </tr>\n",
              "  </thead>\n",
              "  <tbody>\n",
              "    <tr>\n",
              "      <th id=\"T_40e51_level0_row0\" class=\"row_heading level0 row0\" >2</th>\n",
              "      <td id=\"T_40e51_row0_col0\" class=\"data row0 col0\" >Ciência da Computação</td>\n",
              "      <td id=\"T_40e51_row0_col1\" class=\"data row0 col1\" >Noturno</td>\n",
              "      <td id=\"T_40e51_row0_col2\" class=\"data row0 col2\" >183</td>\n",
              "      <td id=\"T_40e51_row0_col3\" class=\"data row0 col3\" >383</td>\n",
              "      <td id=\"T_40e51_row0_col4\" class=\"data row0 col4\" >25</td>\n",
              "      <td id=\"T_40e51_row0_col5\" class=\"data row0 col5\" >642</td>\n",
              "      <td id=\"T_40e51_row0_col6\" class=\"data row0 col6\" >1233</td>\n",
              "      <td id=\"T_40e51_row0_col7\" class=\"data row0 col7\" >72.23</td>\n",
              "    </tr>\n",
              "    <tr>\n",
              "      <th id=\"T_40e51_level0_row1\" class=\"row_heading level0 row1\" >1</th>\n",
              "      <td id=\"T_40e51_row1_col0\" class=\"data row1 col0\" >Ciência da Computação</td>\n",
              "      <td id=\"T_40e51_row1_col1\" class=\"data row1 col1\" >Matutino</td>\n",
              "      <td id=\"T_40e51_row1_col2\" class=\"data row1 col2\" >112</td>\n",
              "      <td id=\"T_40e51_row1_col3\" class=\"data row1 col3\" >143</td>\n",
              "      <td id=\"T_40e51_row1_col4\" class=\"data row1 col4\" >9</td>\n",
              "      <td id=\"T_40e51_row1_col5\" class=\"data row1 col5\" >173</td>\n",
              "      <td id=\"T_40e51_row1_col6\" class=\"data row1 col6\" >437</td>\n",
              "      <td id=\"T_40e51_row1_col7\" class=\"data row1 col7\" >25.60</td>\n",
              "    </tr>\n",
              "    <tr>\n",
              "      <th id=\"T_40e51_level0_row2\" class=\"row_heading level0 row2\" >0</th>\n",
              "      <td id=\"T_40e51_row2_col0\" class=\"data row2 col0\" >Ciência da Computação</td>\n",
              "      <td id=\"T_40e51_row2_col1\" class=\"data row2 col1\" >Integral</td>\n",
              "      <td id=\"T_40e51_row2_col2\" class=\"data row2 col2\" >3</td>\n",
              "      <td id=\"T_40e51_row2_col3\" class=\"data row2 col3\" >9</td>\n",
              "      <td id=\"T_40e51_row2_col4\" class=\"data row2 col4\" >0</td>\n",
              "      <td id=\"T_40e51_row2_col5\" class=\"data row2 col5\" >8</td>\n",
              "      <td id=\"T_40e51_row2_col6\" class=\"data row2 col6\" >20</td>\n",
              "      <td id=\"T_40e51_row2_col7\" class=\"data row2 col7\" >1.17</td>\n",
              "    </tr>\n",
              "    <tr>\n",
              "      <th id=\"T_40e51_level0_row3\" class=\"row_heading level0 row3\" >3</th>\n",
              "      <td id=\"T_40e51_row3_col0\" class=\"data row3 col0\" >Ciência da Computação</td>\n",
              "      <td id=\"T_40e51_row3_col1\" class=\"data row3 col1\" >Vespertino</td>\n",
              "      <td id=\"T_40e51_row3_col2\" class=\"data row3 col2\" >4</td>\n",
              "      <td id=\"T_40e51_row3_col3\" class=\"data row3 col3\" >5</td>\n",
              "      <td id=\"T_40e51_row3_col4\" class=\"data row3 col4\" >0</td>\n",
              "      <td id=\"T_40e51_row3_col5\" class=\"data row3 col5\" >8</td>\n",
              "      <td id=\"T_40e51_row3_col6\" class=\"data row3 col6\" >17</td>\n",
              "      <td id=\"T_40e51_row3_col7\" class=\"data row3 col7\" >1.00</td>\n",
              "    </tr>\n",
              "    <tr>\n",
              "      <th id=\"T_40e51_level0_row4\" class=\"row_heading level0 row4\" >6</th>\n",
              "      <td id=\"T_40e51_row4_col0\" class=\"data row4 col0\" >Engenharia da Computação</td>\n",
              "      <td id=\"T_40e51_row4_col1\" class=\"data row4 col1\" >Noturno</td>\n",
              "      <td id=\"T_40e51_row4_col2\" class=\"data row4 col2\" >10</td>\n",
              "      <td id=\"T_40e51_row4_col3\" class=\"data row4 col3\" >24</td>\n",
              "      <td id=\"T_40e51_row4_col4\" class=\"data row4 col4\" >2</td>\n",
              "      <td id=\"T_40e51_row4_col5\" class=\"data row4 col5\" >44</td>\n",
              "      <td id=\"T_40e51_row4_col6\" class=\"data row4 col6\" >80</td>\n",
              "      <td id=\"T_40e51_row4_col7\" class=\"data row4 col7\" >66.12</td>\n",
              "    </tr>\n",
              "    <tr>\n",
              "      <th id=\"T_40e51_level0_row5\" class=\"row_heading level0 row5\" >4</th>\n",
              "      <td id=\"T_40e51_row5_col0\" class=\"data row5 col0\" >Engenharia da Computação</td>\n",
              "      <td id=\"T_40e51_row5_col1\" class=\"data row5 col1\" >Integral</td>\n",
              "      <td id=\"T_40e51_row5_col2\" class=\"data row5 col2\" >0</td>\n",
              "      <td id=\"T_40e51_row5_col3\" class=\"data row5 col3\" >2</td>\n",
              "      <td id=\"T_40e51_row5_col4\" class=\"data row5 col4\" >0</td>\n",
              "      <td id=\"T_40e51_row5_col5\" class=\"data row5 col5\" >20</td>\n",
              "      <td id=\"T_40e51_row5_col6\" class=\"data row5 col6\" >22</td>\n",
              "      <td id=\"T_40e51_row5_col7\" class=\"data row5 col7\" >18.18</td>\n",
              "    </tr>\n",
              "    <tr>\n",
              "      <th id=\"T_40e51_level0_row6\" class=\"row_heading level0 row6\" >5</th>\n",
              "      <td id=\"T_40e51_row6_col0\" class=\"data row6 col0\" >Engenharia da Computação</td>\n",
              "      <td id=\"T_40e51_row6_col1\" class=\"data row6 col1\" >Matutino</td>\n",
              "      <td id=\"T_40e51_row6_col2\" class=\"data row6 col2\" >4</td>\n",
              "      <td id=\"T_40e51_row6_col3\" class=\"data row6 col3\" >12</td>\n",
              "      <td id=\"T_40e51_row6_col4\" class=\"data row6 col4\" >0</td>\n",
              "      <td id=\"T_40e51_row6_col5\" class=\"data row6 col5\" >3</td>\n",
              "      <td id=\"T_40e51_row6_col6\" class=\"data row6 col6\" >19</td>\n",
              "      <td id=\"T_40e51_row6_col7\" class=\"data row6 col7\" >15.70</td>\n",
              "    </tr>\n",
              "    <tr>\n",
              "      <th id=\"T_40e51_level0_row7\" class=\"row_heading level0 row7\" >9</th>\n",
              "      <td id=\"T_40e51_row7_col0\" class=\"data row7 col0\" >Sistemas de Informação</td>\n",
              "      <td id=\"T_40e51_row7_col1\" class=\"data row7 col1\" >Noturno</td>\n",
              "      <td id=\"T_40e51_row7_col2\" class=\"data row7 col2\" >204</td>\n",
              "      <td id=\"T_40e51_row7_col3\" class=\"data row7 col3\" >384</td>\n",
              "      <td id=\"T_40e51_row7_col4\" class=\"data row7 col4\" >68</td>\n",
              "      <td id=\"T_40e51_row7_col5\" class=\"data row7 col5\" >858</td>\n",
              "      <td id=\"T_40e51_row7_col6\" class=\"data row7 col6\" >1514</td>\n",
              "      <td id=\"T_40e51_row7_col7\" class=\"data row7 col7\" >78.65</td>\n",
              "    </tr>\n",
              "    <tr>\n",
              "      <th id=\"T_40e51_level0_row8\" class=\"row_heading level0 row8\" >7</th>\n",
              "      <td id=\"T_40e51_row8_col0\" class=\"data row8 col0\" >Sistemas de Informação</td>\n",
              "      <td id=\"T_40e51_row8_col1\" class=\"data row8 col1\" >Curso a Distância</td>\n",
              "      <td id=\"T_40e51_row8_col2\" class=\"data row8 col2\" >59</td>\n",
              "      <td id=\"T_40e51_row8_col3\" class=\"data row8 col3\" >34</td>\n",
              "      <td id=\"T_40e51_row8_col4\" class=\"data row8 col4\" >1</td>\n",
              "      <td id=\"T_40e51_row8_col5\" class=\"data row8 col5\" >1</td>\n",
              "      <td id=\"T_40e51_row8_col6\" class=\"data row8 col6\" >95</td>\n",
              "      <td id=\"T_40e51_row8_col7\" class=\"data row8 col7\" >4.94</td>\n",
              "    </tr>\n",
              "    <tr>\n",
              "      <th id=\"T_40e51_level0_row9\" class=\"row_heading level0 row9\" >10</th>\n",
              "      <td id=\"T_40e51_row9_col0\" class=\"data row9 col0\" >Sistemas de Informação</td>\n",
              "      <td id=\"T_40e51_row9_col1\" class=\"data row9 col1\" >Vespertino</td>\n",
              "      <td id=\"T_40e51_row9_col2\" class=\"data row9 col2\" >1</td>\n",
              "      <td id=\"T_40e51_row9_col3\" class=\"data row9 col3\" >1</td>\n",
              "      <td id=\"T_40e51_row9_col4\" class=\"data row9 col4\" >3</td>\n",
              "      <td id=\"T_40e51_row9_col5\" class=\"data row9 col5\" >51</td>\n",
              "      <td id=\"T_40e51_row9_col6\" class=\"data row9 col6\" >56</td>\n",
              "      <td id=\"T_40e51_row9_col7\" class=\"data row9 col7\" >2.91</td>\n",
              "    </tr>\n",
              "    <tr>\n",
              "      <th id=\"T_40e51_level0_row10\" class=\"row_heading level0 row10\" >8</th>\n",
              "      <td id=\"T_40e51_row10_col0\" class=\"data row10 col0\" >Sistemas de Informação</td>\n",
              "      <td id=\"T_40e51_row10_col1\" class=\"data row10 col1\" >Matutino</td>\n",
              "      <td id=\"T_40e51_row10_col2\" class=\"data row10 col2\" >31</td>\n",
              "      <td id=\"T_40e51_row10_col3\" class=\"data row10 col3\" >73</td>\n",
              "      <td id=\"T_40e51_row10_col4\" class=\"data row10 col4\" >16</td>\n",
              "      <td id=\"T_40e51_row10_col5\" class=\"data row10 col5\" >140</td>\n",
              "      <td id=\"T_40e51_row10_col6\" class=\"data row10 col6\" >260</td>\n",
              "      <td id=\"T_40e51_row10_col7\" class=\"data row10 col7\" >13.51</td>\n",
              "    </tr>\n",
              "  </tbody>\n",
              "</table>\n"
            ]
          },
          "metadata": {},
          "execution_count": 452
        }
      ]
    },
    {
      "cell_type": "code",
      "source": [
        "import plotly.express as px\n",
        "\n",
        "# Definir uma paleta de cores roxo-azul\n",
        "nova_paleta_cores = px.colors.sequential.Plasma\n",
        "\n",
        "fig = px.bar(\n",
        "    grouped_courses_sorted,\n",
        "    x='curso_busca',\n",
        "    y=['b_integral_cotas', 'b_integral_ampla', 'b_parcial_cotas', 'b_parcial_ampla'],\n",
        "    labels={\n",
        "        'curso_busca': 'Curso',\n",
        "        'value': 'Número de Bolsas',\n",
        "        'variable': 'Tipo de Bolsa'\n",
        "    },\n",
        "    title='Percentual de Bolsas Ofertadas por Modalidade e Curso',\n",
        "    template='plotly_dark',\n",
        "    color_discrete_sequence=nova_paleta_cores\n",
        ")\n",
        "\n",
        "fig.update_layout(\n",
        "    plot_bgcolor='black',\n",
        "    paper_bgcolor='black',\n",
        "    xaxis=dict(title='Curso'),\n",
        "    yaxis=dict(title='Número de Bolsas'),\n",
        "    legend_title_text='Tipo de Bolsa'\n",
        ")\n",
        "\n",
        "fig.update_traces(\n",
        "    marker=dict(\n",
        "        line=dict(width=0)\n",
        "    )\n",
        ")\n",
        "fig.show()"
      ],
      "metadata": {
        "colab": {
          "base_uri": "https://localhost:8080/",
          "height": 542
        },
        "id": "7BM1uDeagot5",
        "outputId": "d56a5d5c-f272-4737-f618-4f71875eb4bf"
      },
      "execution_count": 453,
      "outputs": [
        {
          "output_type": "display_data",
          "data": {
            "text/html": [
              "<html>\n",
              "<head><meta charset=\"utf-8\" /></head>\n",
              "<body>\n",
              "    <div>            <script src=\"https://cdnjs.cloudflare.com/ajax/libs/mathjax/2.7.5/MathJax.js?config=TeX-AMS-MML_SVG\"></script><script type=\"text/javascript\">if (window.MathJax && window.MathJax.Hub && window.MathJax.Hub.Config) {window.MathJax.Hub.Config({SVG: {font: \"STIX-Web\"}});}</script>                <script type=\"text/javascript\">window.PlotlyConfig = {MathJaxConfig: 'local'};</script>\n",
              "        <script charset=\"utf-8\" src=\"https://cdn.plot.ly/plotly-2.24.1.min.js\"></script>                <div id=\"dff8144f-8e9b-4b6e-a570-4994cdcdb6b8\" class=\"plotly-graph-div\" style=\"height:525px; width:100%;\"></div>            <script type=\"text/javascript\">                                    window.PLOTLYENV=window.PLOTLYENV || {};                                    if (document.getElementById(\"dff8144f-8e9b-4b6e-a570-4994cdcdb6b8\")) {                    Plotly.newPlot(                        \"dff8144f-8e9b-4b6e-a570-4994cdcdb6b8\",                        [{\"alignmentgroup\":\"True\",\"hovertemplate\":\"Tipo de Bolsa=b_integral_cotas\\u003cbr\\u003eCurso=%{x}\\u003cbr\\u003eN\\u00famero de Bolsas=%{y}\\u003cextra\\u003e\\u003c\\u002fextra\\u003e\",\"legendgroup\":\"b_integral_cotas\",\"marker\":{\"color\":\"#0d0887\",\"pattern\":{\"shape\":\"\"},\"line\":{\"width\":0}},\"name\":\"b_integral_cotas\",\"offsetgroup\":\"b_integral_cotas\",\"orientation\":\"v\",\"showlegend\":true,\"textposition\":\"auto\",\"x\":[\"Ci\\u00eancia da Computa\\u00e7\\u00e3o\",\"Ci\\u00eancia da Computa\\u00e7\\u00e3o\",\"Ci\\u00eancia da Computa\\u00e7\\u00e3o\",\"Ci\\u00eancia da Computa\\u00e7\\u00e3o\",\"Engenharia da Computa\\u00e7\\u00e3o\",\"Engenharia da Computa\\u00e7\\u00e3o\",\"Engenharia da Computa\\u00e7\\u00e3o\",\"Sistemas de Informa\\u00e7\\u00e3o\",\"Sistemas de Informa\\u00e7\\u00e3o\",\"Sistemas de Informa\\u00e7\\u00e3o\",\"Sistemas de Informa\\u00e7\\u00e3o\"],\"xaxis\":\"x\",\"y\":[183,112,3,4,10,0,4,204,59,1,31],\"yaxis\":\"y\",\"type\":\"bar\"},{\"alignmentgroup\":\"True\",\"hovertemplate\":\"Tipo de Bolsa=b_integral_ampla\\u003cbr\\u003eCurso=%{x}\\u003cbr\\u003eN\\u00famero de Bolsas=%{y}\\u003cextra\\u003e\\u003c\\u002fextra\\u003e\",\"legendgroup\":\"b_integral_ampla\",\"marker\":{\"color\":\"#46039f\",\"pattern\":{\"shape\":\"\"},\"line\":{\"width\":0}},\"name\":\"b_integral_ampla\",\"offsetgroup\":\"b_integral_ampla\",\"orientation\":\"v\",\"showlegend\":true,\"textposition\":\"auto\",\"x\":[\"Ci\\u00eancia da Computa\\u00e7\\u00e3o\",\"Ci\\u00eancia da Computa\\u00e7\\u00e3o\",\"Ci\\u00eancia da Computa\\u00e7\\u00e3o\",\"Ci\\u00eancia da Computa\\u00e7\\u00e3o\",\"Engenharia da Computa\\u00e7\\u00e3o\",\"Engenharia da Computa\\u00e7\\u00e3o\",\"Engenharia da Computa\\u00e7\\u00e3o\",\"Sistemas de Informa\\u00e7\\u00e3o\",\"Sistemas de Informa\\u00e7\\u00e3o\",\"Sistemas de Informa\\u00e7\\u00e3o\",\"Sistemas de Informa\\u00e7\\u00e3o\"],\"xaxis\":\"x\",\"y\":[383,143,9,5,24,2,12,384,34,1,73],\"yaxis\":\"y\",\"type\":\"bar\"},{\"alignmentgroup\":\"True\",\"hovertemplate\":\"Tipo de Bolsa=b_parcial_cotas\\u003cbr\\u003eCurso=%{x}\\u003cbr\\u003eN\\u00famero de Bolsas=%{y}\\u003cextra\\u003e\\u003c\\u002fextra\\u003e\",\"legendgroup\":\"b_parcial_cotas\",\"marker\":{\"color\":\"#7201a8\",\"pattern\":{\"shape\":\"\"},\"line\":{\"width\":0}},\"name\":\"b_parcial_cotas\",\"offsetgroup\":\"b_parcial_cotas\",\"orientation\":\"v\",\"showlegend\":true,\"textposition\":\"auto\",\"x\":[\"Ci\\u00eancia da Computa\\u00e7\\u00e3o\",\"Ci\\u00eancia da Computa\\u00e7\\u00e3o\",\"Ci\\u00eancia da Computa\\u00e7\\u00e3o\",\"Ci\\u00eancia da Computa\\u00e7\\u00e3o\",\"Engenharia da Computa\\u00e7\\u00e3o\",\"Engenharia da Computa\\u00e7\\u00e3o\",\"Engenharia da Computa\\u00e7\\u00e3o\",\"Sistemas de Informa\\u00e7\\u00e3o\",\"Sistemas de Informa\\u00e7\\u00e3o\",\"Sistemas de Informa\\u00e7\\u00e3o\",\"Sistemas de Informa\\u00e7\\u00e3o\"],\"xaxis\":\"x\",\"y\":[25,9,0,0,2,0,0,68,1,3,16],\"yaxis\":\"y\",\"type\":\"bar\"},{\"alignmentgroup\":\"True\",\"hovertemplate\":\"Tipo de Bolsa=b_parcial_ampla\\u003cbr\\u003eCurso=%{x}\\u003cbr\\u003eN\\u00famero de Bolsas=%{y}\\u003cextra\\u003e\\u003c\\u002fextra\\u003e\",\"legendgroup\":\"b_parcial_ampla\",\"marker\":{\"color\":\"#9c179e\",\"pattern\":{\"shape\":\"\"},\"line\":{\"width\":0}},\"name\":\"b_parcial_ampla\",\"offsetgroup\":\"b_parcial_ampla\",\"orientation\":\"v\",\"showlegend\":true,\"textposition\":\"auto\",\"x\":[\"Ci\\u00eancia da Computa\\u00e7\\u00e3o\",\"Ci\\u00eancia da Computa\\u00e7\\u00e3o\",\"Ci\\u00eancia da Computa\\u00e7\\u00e3o\",\"Ci\\u00eancia da Computa\\u00e7\\u00e3o\",\"Engenharia da Computa\\u00e7\\u00e3o\",\"Engenharia da Computa\\u00e7\\u00e3o\",\"Engenharia da Computa\\u00e7\\u00e3o\",\"Sistemas de Informa\\u00e7\\u00e3o\",\"Sistemas de Informa\\u00e7\\u00e3o\",\"Sistemas de Informa\\u00e7\\u00e3o\",\"Sistemas de Informa\\u00e7\\u00e3o\"],\"xaxis\":\"x\",\"y\":[642,173,8,8,44,20,3,858,1,51,140],\"yaxis\":\"y\",\"type\":\"bar\"}],                        {\"template\":{\"data\":{\"barpolar\":[{\"marker\":{\"line\":{\"color\":\"rgb(17,17,17)\",\"width\":0.5},\"pattern\":{\"fillmode\":\"overlay\",\"size\":10,\"solidity\":0.2}},\"type\":\"barpolar\"}],\"bar\":[{\"error_x\":{\"color\":\"#f2f5fa\"},\"error_y\":{\"color\":\"#f2f5fa\"},\"marker\":{\"line\":{\"color\":\"rgb(17,17,17)\",\"width\":0.5},\"pattern\":{\"fillmode\":\"overlay\",\"size\":10,\"solidity\":0.2}},\"type\":\"bar\"}],\"carpet\":[{\"aaxis\":{\"endlinecolor\":\"#A2B1C6\",\"gridcolor\":\"#506784\",\"linecolor\":\"#506784\",\"minorgridcolor\":\"#506784\",\"startlinecolor\":\"#A2B1C6\"},\"baxis\":{\"endlinecolor\":\"#A2B1C6\",\"gridcolor\":\"#506784\",\"linecolor\":\"#506784\",\"minorgridcolor\":\"#506784\",\"startlinecolor\":\"#A2B1C6\"},\"type\":\"carpet\"}],\"choropleth\":[{\"colorbar\":{\"outlinewidth\":0,\"ticks\":\"\"},\"type\":\"choropleth\"}],\"contourcarpet\":[{\"colorbar\":{\"outlinewidth\":0,\"ticks\":\"\"},\"type\":\"contourcarpet\"}],\"contour\":[{\"colorbar\":{\"outlinewidth\":0,\"ticks\":\"\"},\"colorscale\":[[0.0,\"#0d0887\"],[0.1111111111111111,\"#46039f\"],[0.2222222222222222,\"#7201a8\"],[0.3333333333333333,\"#9c179e\"],[0.4444444444444444,\"#bd3786\"],[0.5555555555555556,\"#d8576b\"],[0.6666666666666666,\"#ed7953\"],[0.7777777777777778,\"#fb9f3a\"],[0.8888888888888888,\"#fdca26\"],[1.0,\"#f0f921\"]],\"type\":\"contour\"}],\"heatmapgl\":[{\"colorbar\":{\"outlinewidth\":0,\"ticks\":\"\"},\"colorscale\":[[0.0,\"#0d0887\"],[0.1111111111111111,\"#46039f\"],[0.2222222222222222,\"#7201a8\"],[0.3333333333333333,\"#9c179e\"],[0.4444444444444444,\"#bd3786\"],[0.5555555555555556,\"#d8576b\"],[0.6666666666666666,\"#ed7953\"],[0.7777777777777778,\"#fb9f3a\"],[0.8888888888888888,\"#fdca26\"],[1.0,\"#f0f921\"]],\"type\":\"heatmapgl\"}],\"heatmap\":[{\"colorbar\":{\"outlinewidth\":0,\"ticks\":\"\"},\"colorscale\":[[0.0,\"#0d0887\"],[0.1111111111111111,\"#46039f\"],[0.2222222222222222,\"#7201a8\"],[0.3333333333333333,\"#9c179e\"],[0.4444444444444444,\"#bd3786\"],[0.5555555555555556,\"#d8576b\"],[0.6666666666666666,\"#ed7953\"],[0.7777777777777778,\"#fb9f3a\"],[0.8888888888888888,\"#fdca26\"],[1.0,\"#f0f921\"]],\"type\":\"heatmap\"}],\"histogram2dcontour\":[{\"colorbar\":{\"outlinewidth\":0,\"ticks\":\"\"},\"colorscale\":[[0.0,\"#0d0887\"],[0.1111111111111111,\"#46039f\"],[0.2222222222222222,\"#7201a8\"],[0.3333333333333333,\"#9c179e\"],[0.4444444444444444,\"#bd3786\"],[0.5555555555555556,\"#d8576b\"],[0.6666666666666666,\"#ed7953\"],[0.7777777777777778,\"#fb9f3a\"],[0.8888888888888888,\"#fdca26\"],[1.0,\"#f0f921\"]],\"type\":\"histogram2dcontour\"}],\"histogram2d\":[{\"colorbar\":{\"outlinewidth\":0,\"ticks\":\"\"},\"colorscale\":[[0.0,\"#0d0887\"],[0.1111111111111111,\"#46039f\"],[0.2222222222222222,\"#7201a8\"],[0.3333333333333333,\"#9c179e\"],[0.4444444444444444,\"#bd3786\"],[0.5555555555555556,\"#d8576b\"],[0.6666666666666666,\"#ed7953\"],[0.7777777777777778,\"#fb9f3a\"],[0.8888888888888888,\"#fdca26\"],[1.0,\"#f0f921\"]],\"type\":\"histogram2d\"}],\"histogram\":[{\"marker\":{\"pattern\":{\"fillmode\":\"overlay\",\"size\":10,\"solidity\":0.2}},\"type\":\"histogram\"}],\"mesh3d\":[{\"colorbar\":{\"outlinewidth\":0,\"ticks\":\"\"},\"type\":\"mesh3d\"}],\"parcoords\":[{\"line\":{\"colorbar\":{\"outlinewidth\":0,\"ticks\":\"\"}},\"type\":\"parcoords\"}],\"pie\":[{\"automargin\":true,\"type\":\"pie\"}],\"scatter3d\":[{\"line\":{\"colorbar\":{\"outlinewidth\":0,\"ticks\":\"\"}},\"marker\":{\"colorbar\":{\"outlinewidth\":0,\"ticks\":\"\"}},\"type\":\"scatter3d\"}],\"scattercarpet\":[{\"marker\":{\"colorbar\":{\"outlinewidth\":0,\"ticks\":\"\"}},\"type\":\"scattercarpet\"}],\"scattergeo\":[{\"marker\":{\"colorbar\":{\"outlinewidth\":0,\"ticks\":\"\"}},\"type\":\"scattergeo\"}],\"scattergl\":[{\"marker\":{\"line\":{\"color\":\"#283442\"}},\"type\":\"scattergl\"}],\"scattermapbox\":[{\"marker\":{\"colorbar\":{\"outlinewidth\":0,\"ticks\":\"\"}},\"type\":\"scattermapbox\"}],\"scatterpolargl\":[{\"marker\":{\"colorbar\":{\"outlinewidth\":0,\"ticks\":\"\"}},\"type\":\"scatterpolargl\"}],\"scatterpolar\":[{\"marker\":{\"colorbar\":{\"outlinewidth\":0,\"ticks\":\"\"}},\"type\":\"scatterpolar\"}],\"scatter\":[{\"marker\":{\"line\":{\"color\":\"#283442\"}},\"type\":\"scatter\"}],\"scatterternary\":[{\"marker\":{\"colorbar\":{\"outlinewidth\":0,\"ticks\":\"\"}},\"type\":\"scatterternary\"}],\"surface\":[{\"colorbar\":{\"outlinewidth\":0,\"ticks\":\"\"},\"colorscale\":[[0.0,\"#0d0887\"],[0.1111111111111111,\"#46039f\"],[0.2222222222222222,\"#7201a8\"],[0.3333333333333333,\"#9c179e\"],[0.4444444444444444,\"#bd3786\"],[0.5555555555555556,\"#d8576b\"],[0.6666666666666666,\"#ed7953\"],[0.7777777777777778,\"#fb9f3a\"],[0.8888888888888888,\"#fdca26\"],[1.0,\"#f0f921\"]],\"type\":\"surface\"}],\"table\":[{\"cells\":{\"fill\":{\"color\":\"#506784\"},\"line\":{\"color\":\"rgb(17,17,17)\"}},\"header\":{\"fill\":{\"color\":\"#2a3f5f\"},\"line\":{\"color\":\"rgb(17,17,17)\"}},\"type\":\"table\"}]},\"layout\":{\"annotationdefaults\":{\"arrowcolor\":\"#f2f5fa\",\"arrowhead\":0,\"arrowwidth\":1},\"autotypenumbers\":\"strict\",\"coloraxis\":{\"colorbar\":{\"outlinewidth\":0,\"ticks\":\"\"}},\"colorscale\":{\"diverging\":[[0,\"#8e0152\"],[0.1,\"#c51b7d\"],[0.2,\"#de77ae\"],[0.3,\"#f1b6da\"],[0.4,\"#fde0ef\"],[0.5,\"#f7f7f7\"],[0.6,\"#e6f5d0\"],[0.7,\"#b8e186\"],[0.8,\"#7fbc41\"],[0.9,\"#4d9221\"],[1,\"#276419\"]],\"sequential\":[[0.0,\"#0d0887\"],[0.1111111111111111,\"#46039f\"],[0.2222222222222222,\"#7201a8\"],[0.3333333333333333,\"#9c179e\"],[0.4444444444444444,\"#bd3786\"],[0.5555555555555556,\"#d8576b\"],[0.6666666666666666,\"#ed7953\"],[0.7777777777777778,\"#fb9f3a\"],[0.8888888888888888,\"#fdca26\"],[1.0,\"#f0f921\"]],\"sequentialminus\":[[0.0,\"#0d0887\"],[0.1111111111111111,\"#46039f\"],[0.2222222222222222,\"#7201a8\"],[0.3333333333333333,\"#9c179e\"],[0.4444444444444444,\"#bd3786\"],[0.5555555555555556,\"#d8576b\"],[0.6666666666666666,\"#ed7953\"],[0.7777777777777778,\"#fb9f3a\"],[0.8888888888888888,\"#fdca26\"],[1.0,\"#f0f921\"]]},\"colorway\":[\"#636efa\",\"#EF553B\",\"#00cc96\",\"#ab63fa\",\"#FFA15A\",\"#19d3f3\",\"#FF6692\",\"#B6E880\",\"#FF97FF\",\"#FECB52\"],\"font\":{\"color\":\"#f2f5fa\"},\"geo\":{\"bgcolor\":\"rgb(17,17,17)\",\"lakecolor\":\"rgb(17,17,17)\",\"landcolor\":\"rgb(17,17,17)\",\"showlakes\":true,\"showland\":true,\"subunitcolor\":\"#506784\"},\"hoverlabel\":{\"align\":\"left\"},\"hovermode\":\"closest\",\"mapbox\":{\"style\":\"dark\"},\"paper_bgcolor\":\"rgb(17,17,17)\",\"plot_bgcolor\":\"rgb(17,17,17)\",\"polar\":{\"angularaxis\":{\"gridcolor\":\"#506784\",\"linecolor\":\"#506784\",\"ticks\":\"\"},\"bgcolor\":\"rgb(17,17,17)\",\"radialaxis\":{\"gridcolor\":\"#506784\",\"linecolor\":\"#506784\",\"ticks\":\"\"}},\"scene\":{\"xaxis\":{\"backgroundcolor\":\"rgb(17,17,17)\",\"gridcolor\":\"#506784\",\"gridwidth\":2,\"linecolor\":\"#506784\",\"showbackground\":true,\"ticks\":\"\",\"zerolinecolor\":\"#C8D4E3\"},\"yaxis\":{\"backgroundcolor\":\"rgb(17,17,17)\",\"gridcolor\":\"#506784\",\"gridwidth\":2,\"linecolor\":\"#506784\",\"showbackground\":true,\"ticks\":\"\",\"zerolinecolor\":\"#C8D4E3\"},\"zaxis\":{\"backgroundcolor\":\"rgb(17,17,17)\",\"gridcolor\":\"#506784\",\"gridwidth\":2,\"linecolor\":\"#506784\",\"showbackground\":true,\"ticks\":\"\",\"zerolinecolor\":\"#C8D4E3\"}},\"shapedefaults\":{\"line\":{\"color\":\"#f2f5fa\"}},\"sliderdefaults\":{\"bgcolor\":\"#C8D4E3\",\"bordercolor\":\"rgb(17,17,17)\",\"borderwidth\":1,\"tickwidth\":0},\"ternary\":{\"aaxis\":{\"gridcolor\":\"#506784\",\"linecolor\":\"#506784\",\"ticks\":\"\"},\"baxis\":{\"gridcolor\":\"#506784\",\"linecolor\":\"#506784\",\"ticks\":\"\"},\"bgcolor\":\"rgb(17,17,17)\",\"caxis\":{\"gridcolor\":\"#506784\",\"linecolor\":\"#506784\",\"ticks\":\"\"}},\"title\":{\"x\":0.05},\"updatemenudefaults\":{\"bgcolor\":\"#506784\",\"borderwidth\":0},\"xaxis\":{\"automargin\":true,\"gridcolor\":\"#283442\",\"linecolor\":\"#506784\",\"ticks\":\"\",\"title\":{\"standoff\":15},\"zerolinecolor\":\"#283442\",\"zerolinewidth\":2},\"yaxis\":{\"automargin\":true,\"gridcolor\":\"#283442\",\"linecolor\":\"#506784\",\"ticks\":\"\",\"title\":{\"standoff\":15},\"zerolinecolor\":\"#283442\",\"zerolinewidth\":2}}},\"xaxis\":{\"anchor\":\"y\",\"domain\":[0.0,1.0],\"title\":{\"text\":\"Curso\"}},\"yaxis\":{\"anchor\":\"x\",\"domain\":[0.0,1.0],\"title\":{\"text\":\"N\\u00famero de Bolsas\"}},\"legend\":{\"title\":{\"text\":\"Tipo de Bolsa\"},\"tracegroupgap\":0},\"title\":{\"text\":\"Percentual de Bolsas Ofertadas por Modalidade e Curso\"},\"barmode\":\"relative\",\"plot_bgcolor\":\"black\",\"paper_bgcolor\":\"black\"},                        {\"responsive\": true}                    ).then(function(){\n",
              "                            \n",
              "var gd = document.getElementById('dff8144f-8e9b-4b6e-a570-4994cdcdb6b8');\n",
              "var x = new MutationObserver(function (mutations, observer) {{\n",
              "        var display = window.getComputedStyle(gd).display;\n",
              "        if (!display || display === 'none') {{\n",
              "            console.log([gd, 'removed!']);\n",
              "            Plotly.purge(gd);\n",
              "            observer.disconnect();\n",
              "        }}\n",
              "}});\n",
              "\n",
              "// Listen for the removal of the full notebook cells\n",
              "var notebookContainer = gd.closest('#notebook-container');\n",
              "if (notebookContainer) {{\n",
              "    x.observe(notebookContainer, {childList: true});\n",
              "}}\n",
              "\n",
              "// Listen for the clearing of the current output cell\n",
              "var outputEl = gd.closest('.output');\n",
              "if (outputEl) {{\n",
              "    x.observe(outputEl, {childList: true});\n",
              "}}\n",
              "\n",
              "                        })                };                            </script>        </div>\n",
              "</body>\n",
              "</html>"
            ]
          },
          "metadata": {}
        }
      ]
    },
    {
      "cell_type": "markdown",
      "source": [
        "Analisando os dados, é possível identificar uma tendência na distribuição das bolsas por modalidade para cada um dos cursos listados, a saber:\n",
        "\n",
        "- **Ciência da Computação**: A modalidade **Noturno** é claramente predominante, com **72.23%** das bolsas ofertadas.\n",
        "- **Engenharia da Computação**: Novamente, a modalidade **Noturno** se destaca com **66.12%** das bolsas.\n",
        "- **Sistemas de Informação**: A modalidade **Noturno** tem a maior porcentagem, com **78.65%** das bolsas.\n",
        "\n",
        "Com base nesses números, pode-se concluir que a modalidade **Noturno** é a predominante em todos os três cursos analisados. Isso pode sugerir, por exemplo,  que há uma maior oferta de bolsas para estudantes que preferem ou necessitam estudar a noite"
      ],
      "metadata": {
        "id": "30lkjYatbo6D"
      }
    }
  ]
}